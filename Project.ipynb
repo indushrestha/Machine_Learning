{
 "cells": [
  {
   "cell_type": "markdown",
   "metadata": {},
   "source": [
    "# Project -CS35"
   ]
  },
  {
   "cell_type": "markdown",
   "metadata": {},
   "source": [
    "## Importing Data"
   ]
  },
  {
   "cell_type": "code",
   "execution_count": 1,
   "metadata": {},
   "outputs": [
    {
     "name": "stderr",
     "output_type": "stream",
     "text": [
      "/Users/Indu/anaconda3/lib/python3.6/site-packages/sklearn/cross_validation.py:41: DeprecationWarning: This module was deprecated in version 0.18 in favor of the model_selection module into which all the refactored classes and functions are moved. Also note that the interface of the new CV iterators are different from that of this module. This module will be removed in 0.20.\n",
      "  \"This module will be removed in 0.20.\", DeprecationWarning)\n"
     ]
    }
   ],
   "source": [
    "import matplotlib.pyplot as pp\n",
    "\n",
    "import seaborn\n",
    "from pylab import *\n",
    "import numpy as np\n",
    "from sklearn import datasets\n",
    "from sklearn import cross_validation\n",
    "import pandas as pd\n",
    "from sklearn import tree      # for decision trees\n",
    "from sklearn import ensemble\n",
    "\n",
    "try: # different imports for different versions of scikit-learn\n",
    "    from sklearn.model_selection import cross_val_score   # simpler cv this week\n",
    "except ImportError:\n",
    "    try:\n",
    "        from sklearn.cross_validation import cross_val_score\n",
    "    except:\n",
    "        print(\"No cross_val_score!\")\n",
    "        "
   ]
  },
  {
   "cell_type": "markdown",
   "metadata": {},
   "source": [
    "## Data Cleaning"
   ]
  },
  {
   "cell_type": "code",
   "execution_count": 2,
   "metadata": {},
   "outputs": [
    {
     "name": "stdout",
     "output_type": "stream",
     "text": [
      "<class 'pandas.core.frame.DataFrame'>\n",
      "RangeIndex: 2556 entries, 0 to 2555\n",
      "Data columns (total 88 columns):\n",
      "id                          2556 non-null int64\n",
      "year                        2556 non-null int64\n",
      "cie                         2556 non-null object\n",
      "sector                      2556 non-null object\n",
      "casheq                      2556 non-null float64\n",
      "receiv                      2556 non-null float64\n",
      "inv                         2556 non-null int64\n",
      "othcurrentA                 2556 non-null int64\n",
      "totcurrentA                 2556 non-null float64\n",
      "PPE                         2556 non-null float64\n",
      "totinv                      2556 non-null float64\n",
      "intA                        2556 non-null float64\n",
      "othA                        2556 non-null float64\n",
      "TA                          2556 non-null float64\n",
      "stD                         2556 non-null int64\n",
      "accountPay                  2556 non-null int64\n",
      "incometaxpay                2556 non-null int64\n",
      "othcurrentL                 2556 non-null int64\n",
      "totcurrentL                 2556 non-null float64\n",
      "ltD                         2556 non-null float64\n",
      "totL                        2556 non-null float64\n",
      "bookequity                  2556 non-null float64\n",
      "revenues                    2556 non-null float64\n",
      "cogs                        2556 non-null float64\n",
      "da                          2556 non-null int64\n",
      "sga                         2556 non-null float64\n",
      "ebitda                      2556 non-null int64\n",
      "ebitafterunusual            2556 non-null int64\n",
      "interestexp                 2556 non-null int64\n",
      "NI                          2556 non-null int64\n",
      "extra                       2556 non-null int64\n",
      "eps                         2556 non-null float64\n",
      "dilutedsharesoutstanding    2556 non-null int64\n",
      "opeCF                       2556 non-null int64\n",
      "capex                       2556 non-null int64\n",
      "invCF                       2556 non-null int64\n",
      "divpaid                     2556 non-null int64\n",
      "repurchasedstock            2556 non-null int64\n",
      "salesstock                  2556 non-null int64\n",
      "freeCF                      2556 non-null int64\n",
      "stockprice                  2556 non-null float64\n",
      "perf1y                      2556 non-null float64\n",
      "MketCap                     2556 non-null float64\n",
      "InvTurnover                 2556 non-null object\n",
      "ReceivTurnover              2556 non-null object\n",
      "WCTurnover                  2556 non-null object\n",
      "TATurnover                  2556 non-null float64\n",
      "CurrentRatio                2556 non-null object\n",
      "CashRatio                   2556 non-null object\n",
      "DebtToAsset                 2556 non-null float64\n",
      "FinLvgRatio                 2556 non-null float64\n",
      "InterestCoverage            2556 non-null object\n",
      "NetDebtTOEBITDA             2556 non-null object\n",
      "GrossProfit                 2556 non-null float64\n",
      "Profitability               2556 non-null float64\n",
      "ROA                         2556 non-null float64\n",
      "ROE                         2556 non-null float64\n",
      "PE                          2556 non-null object\n",
      "BM                          2556 non-null float64\n",
      "EVtoEBITDA                  2556 non-null object\n",
      "DivYield                    2556 non-null float64\n",
      "PricetoCF                   2556 non-null object\n",
      "OCFtoRev                    2556 non-null float64\n",
      "gTA                         2556 non-null float64\n",
      "gBookEquity                 2556 non-null object\n",
      "gREV                        2556 non-null float64\n",
      "deltaEPS                    2556 non-null float64\n",
      "deltaInvTurnover            2143 non-null float64\n",
      "deltaReceivTurnover         2504 non-null float64\n",
      "deltaWCTurnover             2552 non-null float64\n",
      "deltaTATurnover             2556 non-null float64\n",
      "deltaCurrentRatio           2548 non-null float64\n",
      "deltaCashRatio              2534 non-null float64\n",
      "deltaDebtToAsset            2553 non-null float64\n",
      "deltaFinLvgRatio            2538 non-null float64\n",
      "deltaInterestCoverage       2321 non-null float64\n",
      "deltaNetDebtTOEBITDA        2547 non-null float64\n",
      "deltaGrossProfit            2524 non-null float64\n",
      "deltaProfitability          2552 non-null float64\n",
      "deltaROA                    2556 non-null float64\n",
      "deltaROE                    2552 non-null float64\n",
      "deltaPE                     2535 non-null float64\n",
      "deltaBM                     2556 non-null float64\n",
      "deltaEVtoEBITDA             2547 non-null float64\n",
      "deltaDivYield               1646 non-null float64\n",
      "deltaPricetoCF              2554 non-null float64\n",
      "deltaOCFtoRev               2555 non-null float64\n",
      "beat                        2556 non-null int64\n",
      "dtypes: float64(52), int64(23), object(13)\n",
      "memory usage: 1.7+ MB\n",
      "<class 'pandas.core.frame.DataFrame'>\n",
      "RangeIndex: 2556 entries, 0 to 2555\n",
      "Data columns (total 85 columns):\n",
      "id                          2556 non-null int64\n",
      "sector                      2556 non-null object\n",
      "casheq                      2556 non-null float64\n",
      "receiv                      2556 non-null float64\n",
      "inv                         2556 non-null int64\n",
      "othcurrentA                 2556 non-null int64\n",
      "totcurrentA                 2556 non-null float64\n",
      "PPE                         2556 non-null float64\n",
      "totinv                      2556 non-null float64\n",
      "intA                        2556 non-null float64\n",
      "othA                        2556 non-null float64\n",
      "TA                          2556 non-null float64\n",
      "stD                         2556 non-null int64\n",
      "accountPay                  2556 non-null int64\n",
      "incometaxpay                2556 non-null int64\n",
      "othcurrentL                 2556 non-null int64\n",
      "totcurrentL                 2556 non-null float64\n",
      "ltD                         2556 non-null float64\n",
      "totL                        2556 non-null float64\n",
      "bookequity                  2556 non-null float64\n",
      "revenues                    2556 non-null float64\n",
      "cogs                        2556 non-null float64\n",
      "da                          2556 non-null int64\n",
      "sga                         2556 non-null float64\n",
      "ebitda                      2556 non-null int64\n",
      "ebitafterunusual            2556 non-null int64\n",
      "interestexp                 2556 non-null int64\n",
      "NI                          2556 non-null int64\n",
      "extra                       2556 non-null int64\n",
      "eps                         2556 non-null float64\n",
      "dilutedsharesoutstanding    2556 non-null int64\n",
      "opeCF                       2556 non-null int64\n",
      "capex                       2556 non-null int64\n",
      "invCF                       2556 non-null int64\n",
      "divpaid                     2556 non-null int64\n",
      "repurchasedstock            2556 non-null int64\n",
      "salesstock                  2556 non-null int64\n",
      "freeCF                      2556 non-null int64\n",
      "stockprice                  2556 non-null float64\n",
      "perf1y                      2556 non-null float64\n",
      "MketCap                     2556 non-null float64\n",
      "InvTurnover                 2556 non-null object\n",
      "ReceivTurnover              2556 non-null object\n",
      "WCTurnover                  2556 non-null object\n",
      "TATurnover                  2556 non-null float64\n",
      "CurrentRatio                2556 non-null object\n",
      "CashRatio                   2556 non-null object\n",
      "DebtToAsset                 2556 non-null float64\n",
      "FinLvgRatio                 2556 non-null float64\n",
      "InterestCoverage            2556 non-null object\n",
      "NetDebtTOEBITDA             2556 non-null object\n",
      "GrossProfit                 2556 non-null float64\n",
      "Profitability               2556 non-null float64\n",
      "ROA                         2556 non-null float64\n",
      "ROE                         2556 non-null float64\n",
      "PE                          2556 non-null object\n",
      "BM                          2556 non-null float64\n",
      "EVtoEBITDA                  2556 non-null object\n",
      "DivYield                    2556 non-null float64\n",
      "PricetoCF                   2556 non-null object\n",
      "OCFtoRev                    2556 non-null float64\n",
      "gTA                         2556 non-null float64\n",
      "gREV                        2556 non-null float64\n",
      "deltaEPS                    2556 non-null float64\n",
      "deltaInvTurnover            2143 non-null float64\n",
      "deltaReceivTurnover         2504 non-null float64\n",
      "deltaWCTurnover             2552 non-null float64\n",
      "deltaTATurnover             2556 non-null float64\n",
      "deltaCurrentRatio           2548 non-null float64\n",
      "deltaCashRatio              2534 non-null float64\n",
      "deltaDebtToAsset            2553 non-null float64\n",
      "deltaFinLvgRatio            2538 non-null float64\n",
      "deltaInterestCoverage       2321 non-null float64\n",
      "deltaNetDebtTOEBITDA        2547 non-null float64\n",
      "deltaGrossProfit            2524 non-null float64\n",
      "deltaProfitability          2552 non-null float64\n",
      "deltaROA                    2556 non-null float64\n",
      "deltaROE                    2552 non-null float64\n",
      "deltaPE                     2535 non-null float64\n",
      "deltaBM                     2556 non-null float64\n",
      "deltaEVtoEBITDA             2547 non-null float64\n",
      "deltaDivYield               1646 non-null float64\n",
      "deltaPricetoCF              2554 non-null float64\n",
      "deltaOCFtoRev               2555 non-null float64\n",
      "beat                        2556 non-null int64\n",
      "dtypes: float64(52), int64(22), object(11)\n",
      "memory usage: 1.7+ MB\n"
     ]
    }
   ],
   "source": [
    "df = pd.read_csv('data_final.csv', header=0)\n",
    "df.head()\n",
    "df.info()\n",
    "\n",
    "# let's drop columns with too few values or that won't be meaningful\n",
    "# Here's an example of dropping the 'body' column:\n",
    "\n",
    "df = df.drop('year', axis=1)\n",
    "df = df.drop('cie', axis=1)\n",
    "df = df.drop('gBookEquity', axis=1)\n",
    "\n",
    "\n",
    "\n",
    "\n",
    "\n",
    "\n",
    "df.head()\n",
    "df.info()"
   ]
  },
  {
   "cell_type": "code",
   "execution_count": 3,
   "metadata": {},
   "outputs": [],
   "source": [
    "df = df.dropna()"
   ]
  },
  {
   "cell_type": "code",
   "execution_count": 4,
   "metadata": {},
   "outputs": [
    {
     "name": "stdout",
     "output_type": "stream",
     "text": [
      "<class 'pandas.core.frame.DataFrame'>\n",
      "Int64Index: 1363 entries, 4 to 2531\n",
      "Data columns (total 85 columns):\n",
      "id                          1363 non-null int64\n",
      "sector                      1363 non-null int64\n",
      "casheq                      1363 non-null float64\n",
      "receiv                      1363 non-null float64\n",
      "inv                         1363 non-null int64\n",
      "othcurrentA                 1363 non-null int64\n",
      "totcurrentA                 1363 non-null float64\n",
      "PPE                         1363 non-null float64\n",
      "totinv                      1363 non-null float64\n",
      "intA                        1363 non-null float64\n",
      "othA                        1363 non-null float64\n",
      "TA                          1363 non-null float64\n",
      "stD                         1363 non-null int64\n",
      "accountPay                  1363 non-null int64\n",
      "incometaxpay                1363 non-null int64\n",
      "othcurrentL                 1363 non-null int64\n",
      "totcurrentL                 1363 non-null float64\n",
      "ltD                         1363 non-null float64\n",
      "totL                        1363 non-null float64\n",
      "bookequity                  1363 non-null float64\n",
      "revenues                    1363 non-null float64\n",
      "cogs                        1363 non-null float64\n",
      "da                          1363 non-null int64\n",
      "sga                         1363 non-null float64\n",
      "ebitda                      1363 non-null int64\n",
      "ebitafterunusual            1363 non-null int64\n",
      "interestexp                 1363 non-null int64\n",
      "NI                          1363 non-null int64\n",
      "extra                       1363 non-null int64\n",
      "eps                         1363 non-null float64\n",
      "dilutedsharesoutstanding    1363 non-null int64\n",
      "opeCF                       1363 non-null int64\n",
      "capex                       1363 non-null int64\n",
      "invCF                       1363 non-null int64\n",
      "divpaid                     1363 non-null int64\n",
      "repurchasedstock            1363 non-null int64\n",
      "salesstock                  1363 non-null int64\n",
      "freeCF                      1363 non-null int64\n",
      "stockprice                  1363 non-null float64\n",
      "perf1y                      1363 non-null float64\n",
      "MketCap                     1363 non-null float64\n",
      "InvTurnover                 1363 non-null object\n",
      "ReceivTurnover              1363 non-null object\n",
      "WCTurnover                  1363 non-null object\n",
      "TATurnover                  1363 non-null float64\n",
      "CurrentRatio                1363 non-null object\n",
      "CashRatio                   1363 non-null object\n",
      "DebtToAsset                 1363 non-null float64\n",
      "FinLvgRatio                 1363 non-null float64\n",
      "InterestCoverage            1363 non-null object\n",
      "NetDebtTOEBITDA             1363 non-null object\n",
      "GrossProfit                 1363 non-null float64\n",
      "Profitability               1363 non-null float64\n",
      "ROA                         1363 non-null float64\n",
      "ROE                         1363 non-null float64\n",
      "PE                          1363 non-null object\n",
      "BM                          1363 non-null float64\n",
      "EVtoEBITDA                  1363 non-null object\n",
      "DivYield                    1363 non-null float64\n",
      "PricetoCF                   1363 non-null object\n",
      "OCFtoRev                    1363 non-null float64\n",
      "gTA                         1363 non-null float64\n",
      "gREV                        1363 non-null float64\n",
      "deltaEPS                    1363 non-null float64\n",
      "deltaInvTurnover            1363 non-null float64\n",
      "deltaReceivTurnover         1363 non-null float64\n",
      "deltaWCTurnover             1363 non-null float64\n",
      "deltaTATurnover             1363 non-null float64\n",
      "deltaCurrentRatio           1363 non-null float64\n",
      "deltaCashRatio              1363 non-null float64\n",
      "deltaDebtToAsset            1363 non-null float64\n",
      "deltaFinLvgRatio            1363 non-null float64\n",
      "deltaInterestCoverage       1363 non-null float64\n",
      "deltaNetDebtTOEBITDA        1363 non-null float64\n",
      "deltaGrossProfit            1363 non-null float64\n",
      "deltaProfitability          1363 non-null float64\n",
      "deltaROA                    1363 non-null float64\n",
      "deltaROE                    1363 non-null float64\n",
      "deltaPE                     1363 non-null float64\n",
      "deltaBM                     1363 non-null float64\n",
      "deltaEVtoEBITDA             1363 non-null float64\n",
      "deltaDivYield               1363 non-null float64\n",
      "deltaPricetoCF              1363 non-null float64\n",
      "deltaOCFtoRev               1363 non-null float64\n",
      "beat                        1363 non-null int64\n",
      "dtypes: float64(52), int64(23), object(10)\n",
      "memory usage: 915.8+ KB\n"
     ]
    }
   ],
   "source": [
    "def transform(s):\n",
    "    \"\"\" from string to number\n",
    "    \"\"\"\n",
    "    d = { 'Energy':0, 'Utilities':1,'Industrials':2,'Information Technology':3,'Consumer Discretionary':4,\n",
    "         'Telecommunication Services':5,'Consumer Staples':6,'Materials':7,'Financials':8,'Health Care':9,\n",
    "         'Real Estate':10}\n",
    "    \n",
    "    return d[s]\n",
    "\n",
    "df['sector'] = df['sector'].map(transform)\n",
    "\n",
    "df.head()\n",
    "df.info()\n",
    "\n"
   ]
  },
  {
   "cell_type": "code",
   "execution_count": 5,
   "metadata": {},
   "outputs": [
    {
     "name": "stdout",
     "output_type": "stream",
     "text": [
      "<class 'pandas.core.frame.DataFrame'>\n",
      "Int64Index: 1363 entries, 4 to 2531\n",
      "Data columns (total 85 columns):\n",
      "id                          1363 non-null int64\n",
      "sector                      1363 non-null int64\n",
      "casheq                      1363 non-null float64\n",
      "receiv                      1363 non-null float64\n",
      "inv                         1363 non-null int64\n",
      "othcurrentA                 1363 non-null int64\n",
      "totcurrentA                 1363 non-null float64\n",
      "PPE                         1363 non-null float64\n",
      "totinv                      1363 non-null float64\n",
      "intA                        1363 non-null float64\n",
      "othA                        1363 non-null float64\n",
      "TA                          1363 non-null float64\n",
      "stD                         1363 non-null int64\n",
      "accountPay                  1363 non-null int64\n",
      "incometaxpay                1363 non-null int64\n",
      "othcurrentL                 1363 non-null int64\n",
      "totcurrentL                 1363 non-null float64\n",
      "ltD                         1363 non-null float64\n",
      "totL                        1363 non-null float64\n",
      "bookequity                  1363 non-null float64\n",
      "revenues                    1363 non-null float64\n",
      "cogs                        1363 non-null float64\n",
      "da                          1363 non-null int64\n",
      "sga                         1363 non-null float64\n",
      "ebitda                      1363 non-null int64\n",
      "ebitafterunusual            1363 non-null int64\n",
      "interestexp                 1363 non-null int64\n",
      "NI                          1363 non-null int64\n",
      "extra                       1363 non-null int64\n",
      "eps                         1363 non-null float64\n",
      "dilutedsharesoutstanding    1363 non-null int64\n",
      "opeCF                       1363 non-null int64\n",
      "capex                       1363 non-null int64\n",
      "invCF                       1363 non-null int64\n",
      "divpaid                     1363 non-null int64\n",
      "repurchasedstock            1363 non-null int64\n",
      "salesstock                  1363 non-null int64\n",
      "freeCF                      1363 non-null int64\n",
      "stockprice                  1363 non-null float64\n",
      "perf1y                      1363 non-null float64\n",
      "MketCap                     1363 non-null float64\n",
      "InvTurnover                 1363 non-null float64\n",
      "ReceivTurnover              1363 non-null object\n",
      "WCTurnover                  1363 non-null object\n",
      "TATurnover                  1363 non-null float64\n",
      "CurrentRatio                1363 non-null object\n",
      "CashRatio                   1363 non-null object\n",
      "DebtToAsset                 1363 non-null float64\n",
      "FinLvgRatio                 1363 non-null float64\n",
      "InterestCoverage            1363 non-null object\n",
      "NetDebtTOEBITDA             1363 non-null object\n",
      "GrossProfit                 1363 non-null float64\n",
      "Profitability               1363 non-null float64\n",
      "ROA                         1363 non-null float64\n",
      "ROE                         1363 non-null float64\n",
      "PE                          1363 non-null object\n",
      "BM                          1363 non-null float64\n",
      "EVtoEBITDA                  1363 non-null object\n",
      "DivYield                    1363 non-null float64\n",
      "PricetoCF                   1363 non-null object\n",
      "OCFtoRev                    1363 non-null float64\n",
      "gTA                         1363 non-null float64\n",
      "gREV                        1363 non-null float64\n",
      "deltaEPS                    1363 non-null float64\n",
      "deltaInvTurnover            1363 non-null float64\n",
      "deltaReceivTurnover         1363 non-null float64\n",
      "deltaWCTurnover             1363 non-null float64\n",
      "deltaTATurnover             1363 non-null float64\n",
      "deltaCurrentRatio           1363 non-null float64\n",
      "deltaCashRatio              1363 non-null float64\n",
      "deltaDebtToAsset            1363 non-null float64\n",
      "deltaFinLvgRatio            1363 non-null float64\n",
      "deltaInterestCoverage       1363 non-null float64\n",
      "deltaNetDebtTOEBITDA        1363 non-null float64\n",
      "deltaGrossProfit            1363 non-null float64\n",
      "deltaProfitability          1363 non-null float64\n",
      "deltaROA                    1363 non-null float64\n",
      "deltaROE                    1363 non-null float64\n",
      "deltaPE                     1363 non-null float64\n",
      "deltaBM                     1363 non-null float64\n",
      "deltaEVtoEBITDA             1363 non-null float64\n",
      "deltaDivYield               1363 non-null float64\n",
      "deltaPricetoCF              1363 non-null float64\n",
      "deltaOCFtoRev               1363 non-null float64\n",
      "beat                        1363 non-null int64\n",
      "dtypes: float64(53), int64(23), object(9)\n",
      "memory usage: 915.8+ KB\n"
     ]
    }
   ],
   "source": [
    "\n",
    "def transform1(s):\n",
    "    \"\"\" from string to number\n",
    "    \"\"\"\n",
    "    for i in s:\n",
    "       \n",
    "        return float(i)    \n",
    "    \n",
    "    return d[s]\n",
    "\n",
    "df['InvTurnover'] = df['InvTurnover'].map(transform1)\n",
    "df.head()\n",
    "df.info()\n",
    "\n",
    "\n",
    "\n",
    "\n"
   ]
  },
  {
   "cell_type": "code",
   "execution_count": 6,
   "metadata": {},
   "outputs": [],
   "source": [
    "df['ReceivTurnover'] = df['ReceivTurnover'].map(transform1)"
   ]
  },
  {
   "cell_type": "code",
   "execution_count": 7,
   "metadata": {},
   "outputs": [],
   "source": [
    "df['CurrentRatio'] = df['CurrentRatio'].map(transform1)"
   ]
  },
  {
   "cell_type": "code",
   "execution_count": 8,
   "metadata": {},
   "outputs": [],
   "source": [
    "df['CashRatio'] = df['CashRatio'].map(transform1)"
   ]
  },
  {
   "cell_type": "code",
   "execution_count": 9,
   "metadata": {},
   "outputs": [],
   "source": [
    "df['WCTurnover']= [float(x) for x in df['WCTurnover'] ]"
   ]
  },
  {
   "cell_type": "code",
   "execution_count": 10,
   "metadata": {},
   "outputs": [],
   "source": [
    "df['InterestCoverage']= [float(x) for x in df['InterestCoverage'] ]"
   ]
  },
  {
   "cell_type": "code",
   "execution_count": 11,
   "metadata": {},
   "outputs": [],
   "source": [
    "df['NetDebtTOEBITDA']= [float(x) for x in df['NetDebtTOEBITDA'] ]"
   ]
  },
  {
   "cell_type": "code",
   "execution_count": 12,
   "metadata": {},
   "outputs": [],
   "source": [
    "df['PE']= [float(x) for x in df['PE']]"
   ]
  },
  {
   "cell_type": "code",
   "execution_count": 13,
   "metadata": {},
   "outputs": [],
   "source": [
    "df['EVtoEBITDA']= [float(x) for x in df['EVtoEBITDA']]\n",
    "df['PricetoCF']= [float(x) for x in df['PricetoCF']]\n",
    "\n"
   ]
  },
  {
   "cell_type": "code",
   "execution_count": 14,
   "metadata": {},
   "outputs": [
    {
     "name": "stdout",
     "output_type": "stream",
     "text": [
      "<class 'pandas.core.frame.DataFrame'>\n",
      "Int64Index: 1363 entries, 4 to 2531\n",
      "Data columns (total 85 columns):\n",
      "id                          1363 non-null int64\n",
      "sector                      1363 non-null int64\n",
      "casheq                      1363 non-null float64\n",
      "receiv                      1363 non-null float64\n",
      "inv                         1363 non-null int64\n",
      "othcurrentA                 1363 non-null int64\n",
      "totcurrentA                 1363 non-null float64\n",
      "PPE                         1363 non-null float64\n",
      "totinv                      1363 non-null float64\n",
      "intA                        1363 non-null float64\n",
      "othA                        1363 non-null float64\n",
      "TA                          1363 non-null float64\n",
      "stD                         1363 non-null int64\n",
      "accountPay                  1363 non-null int64\n",
      "incometaxpay                1363 non-null int64\n",
      "othcurrentL                 1363 non-null int64\n",
      "totcurrentL                 1363 non-null float64\n",
      "ltD                         1363 non-null float64\n",
      "totL                        1363 non-null float64\n",
      "bookequity                  1363 non-null float64\n",
      "revenues                    1363 non-null float64\n",
      "cogs                        1363 non-null float64\n",
      "da                          1363 non-null int64\n",
      "sga                         1363 non-null float64\n",
      "ebitda                      1363 non-null int64\n",
      "ebitafterunusual            1363 non-null int64\n",
      "interestexp                 1363 non-null int64\n",
      "NI                          1363 non-null int64\n",
      "extra                       1363 non-null int64\n",
      "eps                         1363 non-null float64\n",
      "dilutedsharesoutstanding    1363 non-null int64\n",
      "opeCF                       1363 non-null int64\n",
      "capex                       1363 non-null int64\n",
      "invCF                       1363 non-null int64\n",
      "divpaid                     1363 non-null int64\n",
      "repurchasedstock            1363 non-null int64\n",
      "salesstock                  1363 non-null int64\n",
      "freeCF                      1363 non-null int64\n",
      "stockprice                  1363 non-null float64\n",
      "perf1y                      1363 non-null float64\n",
      "MketCap                     1363 non-null float64\n",
      "InvTurnover                 1363 non-null float64\n",
      "ReceivTurnover              1363 non-null float64\n",
      "WCTurnover                  1363 non-null float64\n",
      "TATurnover                  1363 non-null float64\n",
      "CurrentRatio                1363 non-null float64\n",
      "CashRatio                   1363 non-null float64\n",
      "DebtToAsset                 1363 non-null float64\n",
      "FinLvgRatio                 1363 non-null float64\n",
      "InterestCoverage            1363 non-null float64\n",
      "NetDebtTOEBITDA             1363 non-null float64\n",
      "GrossProfit                 1363 non-null float64\n",
      "Profitability               1363 non-null float64\n",
      "ROA                         1363 non-null float64\n",
      "ROE                         1363 non-null float64\n",
      "PE                          1363 non-null float64\n",
      "BM                          1363 non-null float64\n",
      "EVtoEBITDA                  1363 non-null float64\n",
      "DivYield                    1363 non-null float64\n",
      "PricetoCF                   1363 non-null float64\n",
      "OCFtoRev                    1363 non-null float64\n",
      "gTA                         1363 non-null float64\n",
      "gREV                        1363 non-null float64\n",
      "deltaEPS                    1363 non-null float64\n",
      "deltaInvTurnover            1363 non-null float64\n",
      "deltaReceivTurnover         1363 non-null float64\n",
      "deltaWCTurnover             1363 non-null float64\n",
      "deltaTATurnover             1363 non-null float64\n",
      "deltaCurrentRatio           1363 non-null float64\n",
      "deltaCashRatio              1363 non-null float64\n",
      "deltaDebtToAsset            1363 non-null float64\n",
      "deltaFinLvgRatio            1363 non-null float64\n",
      "deltaInterestCoverage       1363 non-null float64\n",
      "deltaNetDebtTOEBITDA        1363 non-null float64\n",
      "deltaGrossProfit            1363 non-null float64\n",
      "deltaProfitability          1363 non-null float64\n",
      "deltaROA                    1363 non-null float64\n",
      "deltaROE                    1363 non-null float64\n",
      "deltaPE                     1363 non-null float64\n",
      "deltaBM                     1363 non-null float64\n",
      "deltaEVtoEBITDA             1363 non-null float64\n",
      "deltaDivYield               1363 non-null float64\n",
      "deltaPricetoCF              1363 non-null float64\n",
      "deltaOCFtoRev               1363 non-null float64\n",
      "beat                        1363 non-null int64\n",
      "dtypes: float64(62), int64(23)\n",
      "memory usage: 915.8 KB\n"
     ]
    }
   ],
   "source": [
    "df.head()\n",
    "df.info()"
   ]
  },
  {
   "cell_type": "markdown",
   "metadata": {},
   "source": [
    "### Creating Training and Test Data"
   ]
  },
  {
   "cell_type": "code",
   "execution_count": 15,
   "metadata": {},
   "outputs": [],
   "source": [
    "X_all = df.iloc[:,41:82].values        # iloc == \"integer locations\" of rows/cols\n",
    "y_all = df[ 'beat' ].values    "
   ]
  },
  {
   "cell_type": "code",
   "execution_count": 93,
   "metadata": {},
   "outputs": [],
   "source": [
    "\n",
    "X_labeled = X_all[25:,:]  # make the 10 into 0 to keep all of the data\n",
    "y_labeled = y_all[25:]    # same for this line\n",
    "X_test =  X_all[0:25,:]\n",
    "y_test = y_all[0:25]\n",
    "#\n",
    "# we can scramble the data - but only the labeled data!\n",
    "# \n",
    "indices = np.random.permutation(len(X_labeled))  # this scrambles the data each time\n",
    "X_data_full = X_labeled[indices]\n",
    "y_data_full = y_labeled[indices]\n",
    "\n",
    "X_train = X_data_full\n",
    "y_train = y_data_full"
   ]
  },
  {
   "cell_type": "markdown",
   "metadata": {},
   "source": [
    "# KNN Neighbors"
   ]
  },
  {
   "cell_type": "code",
   "execution_count": 95,
   "metadata": {},
   "outputs": [
    {
     "name": "stdout",
     "output_type": "stream",
     "text": [
      "KNN cv testing-data score for K: 0.6253731343283582\n"
     ]
    }
   ],
   "source": [
    "from sklearn.neighbors import KNeighborsClassifier\n",
    "\n",
    "test_score=0\n",
    "train_score=0\n",
    "for i in range(10):\n",
    "    knn = KNeighborsClassifier(n_neighbors=7)  \n",
    "\n",
    "    #\n",
    "    # cross-validate (use part of the training data for training - and part for testing)\n",
    "    #   first, create cross-validation data (here 3/4 train and 1/4 test)\n",
    "    cv_data_train, cv_data_test, cv_target_train, cv_target_test = \\\n",
    "        cross_validation.train_test_split(X_train, y_train, test_size=0.1) # random_state=0 \n",
    "\n",
    "    # fit the model using the cross-validation data\n",
    "    #   typically cross-validation is used to get a sense of how well it works\n",
    "    #   and tune any parameters, such as the k in kNN (3? 5? 7? 41?, etc.)\n",
    "    knn.fit(cv_data_train, cv_target_train) \n",
    "    train_score+=knn.score(cv_data_train,cv_target_train)\n",
    "    test_score+=knn.score(cv_data_test,cv_target_test)\n",
    "#print(\"KNN cv training-data score for K :\", train_score/10)\n",
    "print(\"KNN cv testing-data score for K:\",test_score/10) "
   ]
  },
  {
   "cell_type": "code",
   "execution_count": 96,
   "metadata": {},
   "outputs": [
    {
     "name": "stdout",
     "output_type": "stream",
     "text": [
      "1 KNN cv testing-data score for K: 0.6201492537313433\n",
      "3 KNN cv testing-data score for K: 0.6291044776119402\n",
      "5 KNN cv testing-data score for K: 0.6201492537313433\n",
      "7 KNN cv testing-data score for K: 0.6402985074626866\n",
      "9 KNN cv testing-data score for K: 0.6298507462686567\n",
      "11 KNN cv testing-data score for K: 0.6708955223880597\n",
      "15 KNN cv testing-data score for K: 0.6111940298507463\n",
      "17 KNN cv testing-data score for K: 0.6082089552238805\n",
      "19 KNN cv testing-data score for K: 0.6485074626865671\n",
      "21 KNN cv testing-data score for K: 0.6485074626865672\n",
      "23 KNN cv testing-data score for K: 0.6529850746268656\n",
      "25 KNN cv testing-data score for K: 0.658955223880597\n",
      "27 KNN cv testing-data score for K: 0.6559701492537313\n",
      "31 KNN cv testing-data score for K: 0.6395522388059701\n"
     ]
    }
   ],
   "source": [
    "from sklearn.neighbors import KNeighborsClassifier\n",
    "L = [1,3,5,7,9,11,15,17,19,21,23,25,27,31]\n",
    "\n",
    "\n",
    "for k in L:\n",
    "    test_score=0\n",
    "    train_score=0\n",
    "    for i in range(10):\n",
    "        knn = KNeighborsClassifier(n_neighbors=k)  \n",
    "        cv_data_train, cv_data_test, cv_target_train, cv_target_test = \\\n",
    "            cross_validation.train_test_split(X_train, y_train, test_size=0.1) # random_state=0 \n",
    "\n",
    "        \n",
    "        knn.fit(cv_data_train, cv_target_train) \n",
    "        train_score+=knn.score(cv_data_train,cv_target_train)\n",
    "        test_score+=knn.score(cv_data_test,cv_target_test)\n",
    "    #print(\"KNN cv training-data score for K :\", train_score/10)\n",
    "    print(k,\"KNN cv testing-data score for K:\",test_score/10) "
   ]
  },
  {
   "cell_type": "code",
   "execution_count": 97,
   "metadata": {},
   "outputs": [
    {
     "name": "stdout",
     "output_type": "stream",
     "text": [
      "KNN cv training-data score for K : 0.6794019933554817\n",
      "KNN cv testing-data score for K : 0.6343283582089553\n"
     ]
    }
   ],
   "source": [
    "from sklearn.neighbors import KNeighborsClassifier\n",
    "\n",
    "knn = KNeighborsClassifier(n_neighbors=19)  \n",
    "\n",
    "cv_data_train, cv_data_test, cv_target_train, cv_target_test = \\\n",
    "    cross_validation.train_test_split(X_train, y_train, test_size=0.10) # random_state=0 \n",
    "\n",
    "knn.fit(cv_data_train, cv_target_train) \n",
    "print(\"KNN cv training-data score for K :\", knn.score(cv_data_train,cv_target_train))\n",
    "print(\"KNN cv testing-data score for K :\", knn.score(cv_data_test,cv_target_test))"
   ]
  },
  {
   "cell_type": "code",
   "execution_count": 98,
   "metadata": {
    "scrolled": true
   },
   "outputs": [
    {
     "name": "stdout",
     "output_type": "stream",
     "text": [
      "\n",
      "Created and trained a knn classifier\n",
      "iris_X_test's predicted outputs are\n",
      "[1 1 0 1 1 0 0 1 0 1 1 1 0 0 1 1 0 1 1 1 1 1 0 1 1]\n",
      "and the actual labels are\n",
      "[1 0 0 1 1 0 0 0 0 1 1 1 0 0 0 1 0 1 0 1 0 1 1 0 1]\n"
     ]
    }
   ],
   "source": [
    "knn.fit(X_train, y_train) \n",
    "print(\"\\nCreated and trained a knn classifier\")  #, knn\n",
    "\n",
    "\n",
    "print(\"iris_X_test's predicted outputs are\")\n",
    "print(knn.predict(X_test))\n",
    "\n",
    "\n",
    "print(\"and the actual labels are\")\n",
    "print(y_test)"
   ]
  },
  {
   "cell_type": "markdown",
   "metadata": {},
   "source": [
    "### Grid Search for Hyperparameter tuning"
   ]
  },
  {
   "cell_type": "code",
   "execution_count": 107,
   "metadata": {},
   "outputs": [
    {
     "name": "stdout",
     "output_type": "stream",
     "text": [
      "Fitting 5 folds for each of 28 candidates, totalling 140 fits\n",
      "[CV] n_neighbors=3, weights=uniform ..................................\n",
      "[CV] n_neighbors=3, weights=uniform ..................................\n",
      "[CV] n_neighbors=3, weights=uniform ..................................\n",
      "[CV] n_neighbors=3, weights=uniform ..................................\n",
      "[CV]  n_neighbors=3, weights=uniform, score=0.6194029850746269, total=   0.0s\n",
      "[CV] n_neighbors=3, weights=uniform ..................................\n",
      "[CV]  n_neighbors=3, weights=uniform, score=0.6231343283582089, total=   0.0s\n",
      "[CV] n_neighbors=3, weights=distance .................................\n",
      "[CV]  n_neighbors=3, weights=uniform, score=0.6865671641791045, total=   0.0s\n",
      "[CV] n_neighbors=3, weights=distance .................................\n",
      "[CV]  n_neighbors=3, weights=uniform, score=0.5783582089552238, total=   0.0s\n",
      "[CV] n_neighbors=3, weights=distance .................................\n",
      "[CV]  n_neighbors=3, weights=uniform, score=0.6278195488721805, total=   0.0s\n",
      "[CV]  n_neighbors=3, weights=distance, score=0.6156716417910447, total=   0.0s\n",
      "[CV] n_neighbors=5, weights=uniform ..................................\n",
      "[CV]  n_neighbors=3, weights=distance, score=0.6156716417910447, total=   0.0s\n",
      "[CV] n_neighbors=5, weights=uniform ..................................\n",
      "[CV] n_neighbors=3, weights=distance .................................\n",
      "[CV]  n_neighbors=3, weights=distance, score=0.6940298507462687, total=   0.0s\n",
      "[CV] n_neighbors=5, weights=uniform ..................................\n",
      "[CV]  n_neighbors=3, weights=distance, score=0.585820895522388, total=   0.0s\n",
      "[CV] n_neighbors=3, weights=distance .................................\n",
      "[CV]  n_neighbors=5, weights=uniform, score=0.6119402985074627, total=   0.0s\n",
      "[CV] n_neighbors=5, weights=uniform ..................................\n",
      "[CV]  n_neighbors=5, weights=uniform, score=0.6977611940298507, total=   0.1s\n",
      "[CV] n_neighbors=5, weights=uniform ..................................\n",
      "[CV]  n_neighbors=5, weights=uniform, score=0.5939849624060151, total=   0.0s\n",
      "[CV] n_neighbors=5, weights=distance .................................\n",
      "[CV]  n_neighbors=3, weights=distance, score=0.6353383458646616, total=   0.0s\n",
      "[CV] n_neighbors=5, weights=distance .................................\n",
      "[CV]  n_neighbors=5, weights=uniform, score=0.6343283582089553, total=   0.0s\n",
      "[CV] n_neighbors=5, weights=distance .................................\n",
      "[CV]  n_neighbors=5, weights=uniform, score=0.5746268656716418, total=   0.0s\n",
      "[CV] n_neighbors=7, weights=uniform ..................................\n",
      "[CV]  n_neighbors=5, weights=distance, score=0.6156716417910447, total=   0.0s\n",
      "[CV] n_neighbors=7, weights=uniform ..................................\n",
      "[CV]  n_neighbors=5, weights=distance, score=0.6194029850746269, total=   0.0s\n",
      "[CV] n_neighbors=5, weights=distance .................................\n",
      "[CV]  n_neighbors=5, weights=distance, score=0.5671641791044776, total=   0.0s\n",
      "[CV] n_neighbors=5, weights=distance .................................\n",
      "[CV]  n_neighbors=7, weights=uniform, score=0.6268656716417911, total=   0.0s\n",
      "[CV] n_neighbors=7, weights=uniform ..................................\n",
      "[CV]  n_neighbors=7, weights=uniform, score=0.6753731343283582, total=   0.0s\n",
      "[CV] n_neighbors=7, weights=uniform ..................................\n",
      "[CV]  n_neighbors=5, weights=distance, score=0.5977443609022557, total=   0.0s\n",
      "[CV] n_neighbors=7, weights=uniform ..................................\n",
      "[CV]  n_neighbors=5, weights=distance, score=0.6977611940298507, total=   0.0s\n",
      "[CV] n_neighbors=7, weights=distance .................................\n",
      "[CV]  n_neighbors=7, weights=uniform, score=0.6604477611940298, total=   0.0s\n",
      "[CV] n_neighbors=7, weights=distance .................................\n",
      "[CV]  n_neighbors=7, weights=uniform, score=0.6119402985074627, total=   0.0s\n",
      "[CV] n_neighbors=9, weights=uniform ..................................\n",
      "[CV]  n_neighbors=7, weights=uniform, score=0.5827067669172933, total=   0.0s\n",
      "[CV] n_neighbors=7, weights=distance .................................\n",
      "[CV]  n_neighbors=7, weights=distance, score=0.6417910447761194, total=   0.0s\n",
      "[CV] n_neighbors=7, weights=distance .................................\n",
      "[CV]  n_neighbors=7, weights=distance, score=0.6194029850746269, total=   0.0s\n",
      "[CV] n_neighbors=7, weights=distance .................................\n",
      "[CV]  n_neighbors=9, weights=uniform, score=0.5895522388059702, total=   0.0s\n",
      "[CV] n_neighbors=9, weights=uniform ..................................\n",
      "[CV]  n_neighbors=7, weights=distance, score=0.6194029850746269, total=   0.0s\n",
      "[CV] n_neighbors=9, weights=uniform ..................................\n",
      "[CV]  n_neighbors=7, weights=distance, score=0.5902255639097744, total=   0.0s\n",
      "[CV] n_neighbors=9, weights=uniform ..................................\n",
      "[CV]  n_neighbors=7, weights=distance, score=0.6791044776119403, total=   0.2s\n",
      "[CV] n_neighbors=9, weights=distance .................................\n",
      "[CV]  n_neighbors=9, weights=uniform, score=0.6567164179104478, total=   0.0s\n",
      "[CV] n_neighbors=9, weights=distance .................................\n",
      "[CV]  n_neighbors=9, weights=uniform, score=0.6455223880597015, total=   0.0s\n",
      "[CV] n_neighbors=9, weights=uniform ..................................\n",
      "[CV]  n_neighbors=9, weights=uniform, score=0.5977443609022557, total=   0.0s\n",
      "[CV] n_neighbors=9, weights=distance .................................\n",
      "[CV]  n_neighbors=9, weights=distance, score=0.6455223880597015, total=   0.1s\n",
      "[CV] n_neighbors=9, weights=distance .................................\n",
      "[CV]  n_neighbors=9, weights=distance, score=0.6044776119402985, total=   0.0s\n",
      "[CV] n_neighbors=9, weights=distance .................................\n",
      "[CV]  n_neighbors=9, weights=uniform, score=0.6119402985074627, total=   0.0s\n",
      "[CV] n_neighbors=11, weights=uniform .................................\n",
      "[CV]  n_neighbors=9, weights=distance, score=0.6567164179104478, total=   0.1s\n",
      "[CV] n_neighbors=11, weights=uniform .................................\n",
      "[CV]  n_neighbors=9, weights=distance, score=0.5932835820895522, total=   0.1s\n",
      "[CV] n_neighbors=11, weights=uniform .................................\n",
      "[CV]  n_neighbors=9, weights=distance, score=0.5902255639097744, total=   0.0s\n",
      "[CV] n_neighbors=11, weights=distance ................................\n",
      "[CV]  n_neighbors=11, weights=uniform, score=0.6044776119402985, total=   0.0s\n",
      "[CV] n_neighbors=11, weights=uniform .................................\n",
      "[CV]  n_neighbors=11, weights=uniform, score=0.6567164179104478, total=   0.1s\n",
      "[CV] n_neighbors=11, weights=uniform .................................\n",
      "[CV]  n_neighbors=11, weights=uniform, score=0.5864661654135338, total=   0.0s\n",
      "[CV] n_neighbors=11, weights=distance ................................\n"
     ]
    },
    {
     "name": "stderr",
     "output_type": "stream",
     "text": [
      "[Parallel(n_jobs=-1)]: Done  40 tasks      | elapsed:    2.1s\n"
     ]
    },
    {
     "name": "stdout",
     "output_type": "stream",
     "text": [
      "[CV]  n_neighbors=11, weights=distance, score=0.6380597014925373, total=   0.0s\n",
      "[CV] n_neighbors=11, weights=distance ................................\n",
      "[CV]  n_neighbors=11, weights=uniform, score=0.6417910447761194, total=   0.0s\n",
      "[CV] n_neighbors=11, weights=distance ................................\n",
      "[CV]  n_neighbors=11, weights=uniform, score=0.6119402985074627, total=   0.0s\n",
      "[CV] n_neighbors=13, weights=uniform .................................\n",
      "[CV]  n_neighbors=11, weights=distance, score=0.6156716417910447, total=   0.1s\n",
      "[CV] n_neighbors=13, weights=uniform .................................\n",
      "[CV]  n_neighbors=11, weights=distance, score=0.664179104477612, total=   0.0s\n",
      "[CV] n_neighbors=13, weights=uniform .................................\n",
      "[CV]  n_neighbors=11, weights=distance, score=0.6156716417910447, total=   0.0s\n",
      "[CV] n_neighbors=11, weights=distance ................................\n",
      "[CV]  n_neighbors=13, weights=uniform, score=0.6044776119402985, total=   0.1s\n",
      "[CV] n_neighbors=13, weights=uniform .................................\n",
      "[CV]  n_neighbors=13, weights=uniform, score=0.6567164179104478, total=   0.0s\n",
      "[CV] n_neighbors=13, weights=uniform .................................\n",
      "[CV]  n_neighbors=13, weights=uniform, score=0.6052631578947368, total=   0.0s\n",
      "[CV] n_neighbors=13, weights=distance ................................\n",
      "[CV]  n_neighbors=11, weights=distance, score=0.5902255639097744, total=   0.0s\n",
      "[CV] n_neighbors=13, weights=distance ................................\n",
      "[CV]  n_neighbors=13, weights=uniform, score=0.6455223880597015, total=   0.1s\n",
      "[CV] n_neighbors=13, weights=distance ................................\n",
      "[CV]  n_neighbors=13, weights=uniform, score=0.5970149253731343, total=   0.0s\n",
      "[CV] n_neighbors=15, weights=uniform .................................\n",
      "[CV]  n_neighbors=13, weights=distance, score=0.6119402985074627, total=   0.0s\n",
      "[CV] n_neighbors=15, weights=uniform .................................\n",
      "[CV]  n_neighbors=13, weights=distance, score=0.6455223880597015, total=   0.0s\n",
      "[CV] n_neighbors=13, weights=distance ................................\n",
      "[CV]  n_neighbors=13, weights=distance, score=0.6082089552238806, total=   0.0s\n",
      "[CV] n_neighbors=13, weights=distance ................................\n",
      "[CV]  n_neighbors=15, weights=uniform, score=0.6604477611940298, total=   0.0s\n",
      "[CV] n_neighbors=15, weights=uniform .................................\n",
      "[CV]  n_neighbors=15, weights=uniform, score=0.6194029850746269, total=   0.0s\n",
      "[CV] n_neighbors=15, weights=uniform .................................\n",
      "[CV]  n_neighbors=13, weights=distance, score=0.6604477611940298, total=   0.0s\n",
      "[CV] n_neighbors=15, weights=uniform .................................\n",
      "[CV]  n_neighbors=13, weights=distance, score=0.5864661654135338, total=   0.1s\n",
      "[CV] n_neighbors=15, weights=distance ................................\n",
      "[CV]  n_neighbors=15, weights=uniform, score=0.6194029850746269, total=   0.1s\n",
      "[CV] n_neighbors=15, weights=distance ................................\n",
      "[CV]  n_neighbors=15, weights=uniform, score=0.6529850746268657, total=   0.0s\n",
      "[CV] n_neighbors=17, weights=uniform .................................\n",
      "[CV]  n_neighbors=15, weights=uniform, score=0.5977443609022557, total=   0.0s\n",
      "[CV] n_neighbors=15, weights=distance ................................\n",
      "[CV]  n_neighbors=15, weights=distance, score=0.6529850746268657, total=   0.0s\n",
      "[CV] n_neighbors=15, weights=distance ................................\n",
      "[CV]  n_neighbors=15, weights=distance, score=0.6268656716417911, total=   0.0s\n",
      "[CV] n_neighbors=15, weights=distance ................................\n",
      "[CV]  n_neighbors=17, weights=uniform, score=0.6268656716417911, total=   0.0s\n",
      "[CV] n_neighbors=17, weights=uniform .................................\n",
      "[CV]  n_neighbors=15, weights=distance, score=0.6194029850746269, total=   0.0s\n",
      "[CV] n_neighbors=17, weights=uniform .................................\n",
      "[CV]  n_neighbors=15, weights=distance, score=0.667910447761194, total=   0.0s\n",
      "[CV] n_neighbors=17, weights=uniform .................................\n",
      "[CV]  n_neighbors=17, weights=uniform, score=0.6455223880597015, total=   0.0s\n",
      "[CV] n_neighbors=17, weights=distance ................................\n",
      "[CV]  n_neighbors=15, weights=distance, score=0.5977443609022557, total=   0.0s\n",
      "[CV]  n_neighbors=17, weights=uniform, score=0.6455223880597015, total=   0.0s\n",
      "[CV] n_neighbors=17, weights=uniform .................................\n",
      "[CV] n_neighbors=17, weights=distance ................................\n",
      "[CV]  n_neighbors=17, weights=uniform, score=0.6015037593984962, total=   0.0s\n",
      "[CV] n_neighbors=17, weights=distance ................................\n",
      "[CV]  n_neighbors=17, weights=distance, score=0.6529850746268657, total=   0.0s\n",
      "[CV] n_neighbors=17, weights=distance ................................\n",
      "[CV]  n_neighbors=17, weights=uniform, score=0.6156716417910447, total=   0.0s\n",
      "[CV] n_neighbors=19, weights=uniform .................................\n",
      "[CV]  n_neighbors=17, weights=distance, score=0.6194029850746269, total=   0.0s\n",
      "[CV] n_neighbors=17, weights=distance ................................\n",
      "[CV]  n_neighbors=17, weights=distance, score=0.6305970149253731, total=   0.0s\n",
      "[CV] n_neighbors=19, weights=uniform .................................\n",
      "[CV]  n_neighbors=17, weights=distance, score=0.6529850746268657, total=   0.0s\n",
      "[CV] n_neighbors=19, weights=uniform .................................\n",
      "[CV]  n_neighbors=19, weights=uniform, score=0.6268656716417911, total=   0.0s\n",
      "[CV] n_neighbors=19, weights=uniform .................................\n",
      "[CV]  n_neighbors=17, weights=distance, score=0.6015037593984962, total=   0.0s\n",
      "[CV] n_neighbors=19, weights=distance ................................\n",
      "[CV]  n_neighbors=19, weights=uniform, score=0.6567164179104478, total=   0.0s\n",
      "[CV] n_neighbors=19, weights=uniform .................................\n",
      "[CV]  n_neighbors=19, weights=uniform, score=0.6165413533834586, total=   0.0s\n",
      "[CV] n_neighbors=19, weights=distance ................................\n",
      "[CV]  n_neighbors=19, weights=uniform, score=0.6604477611940298, total=   0.1s\n",
      "[CV] n_neighbors=19, weights=distance ................................\n",
      "[CV]  n_neighbors=19, weights=distance, score=0.667910447761194, total=   0.1s\n",
      "[CV] n_neighbors=19, weights=distance ................................\n",
      "[CV]  n_neighbors=19, weights=uniform, score=0.6082089552238806, total=   0.1s\n",
      "[CV] n_neighbors=21, weights=uniform .................................\n",
      "[CV]  n_neighbors=19, weights=distance, score=0.6231343283582089, total=   0.1s\n",
      "[CV] n_neighbors=21, weights=uniform .................................\n",
      "[CV]  n_neighbors=19, weights=distance, score=0.6119402985074627, total=   0.0s\n",
      "[CV] n_neighbors=19, weights=distance ................................\n",
      "[CV]  n_neighbors=19, weights=distance, score=0.6604477611940298, total=   0.1s\n",
      "[CV] n_neighbors=21, weights=uniform .................................\n",
      "[CV]  n_neighbors=21, weights=uniform, score=0.6529850746268657, total=   0.1s\n",
      "[CV] n_neighbors=21, weights=uniform .................................\n",
      "[CV]  n_neighbors=21, weights=uniform, score=0.664179104477612, total=   0.0s\n",
      "[CV] n_neighbors=21, weights=uniform .................................\n",
      "[CV]  n_neighbors=19, weights=distance, score=0.6240601503759399, total=   0.0s\n",
      "[CV] n_neighbors=21, weights=distance ................................\n",
      "[CV]  n_neighbors=21, weights=uniform, score=0.6390977443609023, total=   0.0s\n",
      "[CV] n_neighbors=21, weights=distance ................................\n",
      "[CV]  n_neighbors=21, weights=uniform, score=0.6828358208955224, total=   0.0s\n",
      "[CV] n_neighbors=21, weights=distance ................................\n",
      "[CV]  n_neighbors=21, weights=uniform, score=0.5970149253731343, total=   0.0s\n",
      "[CV] n_neighbors=23, weights=uniform .................................\n",
      "[CV]  n_neighbors=21, weights=distance, score=0.6828358208955224, total=   0.0s\n",
      "[CV] n_neighbors=21, weights=distance ................................\n",
      "[CV]  n_neighbors=21, weights=distance, score=0.6492537313432836, total=   0.0s\n",
      "[CV] n_neighbors=23, weights=uniform .................................\n",
      "[CV]  n_neighbors=21, weights=distance, score=0.6156716417910447, total=   0.1s\n"
     ]
    },
    {
     "name": "stdout",
     "output_type": "stream",
     "text": [
      "[CV] n_neighbors=21, weights=distance ................................\n",
      "[CV]  n_neighbors=23, weights=uniform, score=0.667910447761194, total=   0.1s\n",
      "[CV] n_neighbors=23, weights=uniform .................................\n",
      "[CV]  n_neighbors=21, weights=distance, score=0.664179104477612, total=   0.0s\n",
      "[CV] n_neighbors=23, weights=uniform .................................\n",
      "[CV]  n_neighbors=23, weights=uniform, score=0.6604477611940298, total=   0.0s\n",
      "[CV] n_neighbors=23, weights=uniform .................................\n",
      "[CV]  n_neighbors=21, weights=distance, score=0.6278195488721805, total=   0.1s\n",
      "[CV] n_neighbors=23, weights=distance ................................\n",
      "[CV]  n_neighbors=23, weights=uniform, score=0.6753731343283582, total=   0.1s\n",
      "[CV] n_neighbors=23, weights=distance ................................\n",
      "[CV]  n_neighbors=23, weights=uniform, score=0.6278195488721805, total=   0.0s\n",
      "[CV] n_neighbors=23, weights=distance ................................\n",
      "[CV]  n_neighbors=23, weights=uniform, score=0.6082089552238806, total=   0.1s\n",
      "[CV] n_neighbors=25, weights=uniform .................................\n",
      "[CV]  n_neighbors=23, weights=distance, score=0.664179104477612, total=   0.1s\n",
      "[CV] n_neighbors=23, weights=distance ................................\n",
      "[CV]  n_neighbors=23, weights=distance, score=0.6119402985074627, total=   0.1s\n",
      "[CV] n_neighbors=23, weights=distance ................................\n",
      "[CV]  n_neighbors=23, weights=distance, score=0.6604477611940298, total=   0.0s\n",
      "[CV] n_neighbors=25, weights=uniform .................................\n",
      "[CV]  n_neighbors=25, weights=uniform, score=0.6343283582089553, total=   0.1s\n",
      "[CV] n_neighbors=25, weights=uniform .................................\n",
      "[CV]  n_neighbors=23, weights=distance, score=0.667910447761194, total=   0.1s\n",
      "[CV] n_neighbors=25, weights=uniform .................................\n",
      "[CV]  n_neighbors=23, weights=distance, score=0.6240601503759399, total=   0.1s\n",
      "[CV] n_neighbors=25, weights=distance ................................\n",
      "[CV]  n_neighbors=25, weights=uniform, score=0.6604477611940298, total=   0.1s\n",
      "[CV] n_neighbors=25, weights=uniform .................................\n",
      "[CV]  n_neighbors=25, weights=uniform, score=0.6753731343283582, total=   0.1s\n",
      "[CV] n_neighbors=25, weights=distance ................................\n",
      "[CV]  n_neighbors=25, weights=uniform, score=0.6466165413533834, total=   0.1s\n",
      "[CV] n_neighbors=25, weights=distance ................................\n",
      "[CV]  n_neighbors=25, weights=distance, score=0.6716417910447762, total=   0.1s\n",
      "[CV] n_neighbors=25, weights=distance ................................\n",
      "[CV]  n_neighbors=25, weights=uniform, score=0.5970149253731343, total=   0.0s\n",
      "[CV] n_neighbors=27, weights=uniform .................................\n",
      "[CV]  n_neighbors=25, weights=distance, score=0.6119402985074627, total=   0.1s\n",
      "[CV] n_neighbors=25, weights=distance ................................\n",
      "[CV]  n_neighbors=25, weights=distance, score=0.6455223880597015, total=   0.1s\n",
      "[CV] n_neighbors=27, weights=uniform .................................\n",
      "[CV]  n_neighbors=25, weights=distance, score=0.6455223880597015, total=   0.1s\n",
      "[CV] n_neighbors=27, weights=uniform .................................\n",
      "[CV]  n_neighbors=27, weights=uniform, score=0.6417910447761194, total=   0.1s\n",
      "[CV] n_neighbors=27, weights=uniform .................................\n",
      "[CV]  n_neighbors=25, weights=distance, score=0.6466165413533834, total=   0.0s\n",
      "[CV] n_neighbors=27, weights=distance ................................\n",
      "[CV]  n_neighbors=27, weights=uniform, score=0.6567164179104478, total=   0.1s\n",
      "[CV] n_neighbors=27, weights=uniform .................................\n",
      "[CV]  n_neighbors=27, weights=uniform, score=0.6353383458646616, total=   0.0s\n",
      "[CV] n_neighbors=27, weights=distance ................................\n",
      "[CV]  n_neighbors=27, weights=uniform, score=0.6604477611940298, total=   0.0s\n",
      "[CV] n_neighbors=27, weights=distance ................................\n",
      "[CV]  n_neighbors=27, weights=distance, score=0.6567164179104478, total=   0.0s\n",
      "[CV] n_neighbors=27, weights=distance ................................\n",
      "[CV]  n_neighbors=27, weights=uniform, score=0.5746268656716418, total=   0.1s\n",
      "[CV] n_neighbors=29, weights=uniform .................................\n",
      "[CV]  n_neighbors=27, weights=distance, score=0.6417910447761194, total=   0.1s\n",
      "[CV] n_neighbors=29, weights=uniform .................................\n",
      "[CV]  n_neighbors=27, weights=distance, score=0.6007462686567164, total=   0.0s\n",
      "[CV] n_neighbors=27, weights=distance ................................\n",
      "[CV]  n_neighbors=27, weights=distance, score=0.6567164179104478, total=   0.0s\n",
      "[CV] n_neighbors=29, weights=uniform .................................\n",
      "[CV]  n_neighbors=29, weights=uniform, score=0.6455223880597015, total=   0.1s\n",
      "[CV] n_neighbors=29, weights=uniform .................................\n",
      "[CV]  n_neighbors=29, weights=uniform, score=0.6567164179104478, total=   0.1s\n",
      "[CV] n_neighbors=29, weights=uniform .................................\n",
      "[CV]  n_neighbors=27, weights=distance, score=0.6203007518796992, total=   0.0s\n",
      "[CV] n_neighbors=29, weights=distance ................................\n",
      "[CV]  n_neighbors=29, weights=uniform, score=0.6654135338345865, total=   0.0s\n",
      "[CV] n_neighbors=29, weights=distance ................................\n",
      "[CV]  n_neighbors=29, weights=uniform, score=0.5970149253731343, total=   0.0s\n",
      "[CV] n_neighbors=29, weights=distance ................................\n",
      "[CV]  n_neighbors=29, weights=uniform, score=0.667910447761194, total=   0.0s\n",
      "[CV]  n_neighbors=29, weights=distance, score=0.6716417910447762, total=   0.0s\n",
      "[CV] n_neighbors=29, weights=distance ................................\n",
      "[CV]  n_neighbors=29, weights=distance, score=0.6380597014925373, total=   0.1s\n",
      "[CV]  n_neighbors=29, weights=distance, score=0.6082089552238806, total=   0.0s\n",
      "[CV] n_neighbors=29, weights=distance ................................\n",
      "[CV]  n_neighbors=29, weights=distance, score=0.664179104477612, total=   0.0s\n",
      "[CV]  n_neighbors=29, weights=distance, score=0.6428571428571429, total=   0.0s\n"
     ]
    },
    {
     "name": "stderr",
     "output_type": "stream",
     "text": [
      "[Parallel(n_jobs=-1)]: Done 140 out of 140 | elapsed:    8.0s finished\n"
     ]
    },
    {
     "data": {
      "text/plain": [
       "GridSearchCV(cv=5, error_score='raise',\n",
       "       estimator=KNeighborsClassifier(algorithm='auto', leaf_size=30, metric='minkowski',\n",
       "           metric_params=None, n_jobs=1, n_neighbors=5, p=2,\n",
       "           weights='uniform'),\n",
       "       fit_params=None, iid=True, n_jobs=-1,\n",
       "       param_grid=[{'weights': ['uniform', 'distance'], 'n_neighbors': [3, 5, 7, 9, 11, 13, 15, 17, 19, 21, 23, 25, 27, 29]}],\n",
       "       pre_dispatch='2*n_jobs', refit=True, return_train_score='warn',\n",
       "       scoring=None, verbose=3)"
      ]
     },
     "execution_count": 107,
     "metadata": {},
     "output_type": "execute_result"
    }
   ],
   "source": [
    "from sklearn.model_selection import GridSearchCV\n",
    "\n",
    "param_grid = [{'weights': [\"uniform\", \"distance\"], 'n_neighbors': [3,5,7,9,11,13,15,17,19,21,23,25,27,29]}]\n",
    "\n",
    "knn_clf = KNeighborsClassifier()\n",
    "grid_search = GridSearchCV(knn_clf, param_grid, cv=5, verbose=3, n_jobs=-1)\n",
    "grid_search.fit(X_train, y_train)"
   ]
  },
  {
   "cell_type": "code",
   "execution_count": 108,
   "metadata": {},
   "outputs": [
    {
     "data": {
      "text/plain": [
       "{'n_neighbors': 21, 'weights': 'distance'}"
      ]
     },
     "execution_count": 108,
     "metadata": {},
     "output_type": "execute_result"
    }
   ],
   "source": [
    "grid_search.best_params_"
   ]
  },
  {
   "cell_type": "code",
   "execution_count": 109,
   "metadata": {},
   "outputs": [
    {
     "data": {
      "text/plain": [
       "0.647982062780269"
      ]
     },
     "execution_count": 109,
     "metadata": {},
     "output_type": "execute_result"
    }
   ],
   "source": [
    "grid_search.best_score_"
   ]
  },
  {
   "cell_type": "code",
   "execution_count": 110,
   "metadata": {},
   "outputs": [
    {
     "data": {
      "text/plain": [
       "0.72"
      ]
     },
     "execution_count": 110,
     "metadata": {},
     "output_type": "execute_result"
    }
   ],
   "source": [
    "from sklearn.metrics import accuracy_score\n",
    "\n",
    "y_pred = grid_search.predict(X_test)\n",
    "accuracy_score(y_test, y_pred)"
   ]
  },
  {
   "cell_type": "markdown",
   "metadata": {},
   "source": [
    "# Decision Tree"
   ]
  },
  {
   "cell_type": "code",
   "execution_count": 59,
   "metadata": {},
   "outputs": [],
   "source": [
    "a=list(df)\n",
    "feature_names = a[41:82]\n",
    "target_names = ['0', '1']"
   ]
  },
  {
   "cell_type": "code",
   "execution_count": 60,
   "metadata": {},
   "outputs": [
    {
     "name": "stdout",
     "output_type": "stream",
     "text": [
      "Wrote the file treeown3.dot\n",
      "Wrote the file treeown4.dot\n",
      "Wrote the file treeown5.dot\n",
      "Wrote the file treeown6.dot\n"
     ]
    }
   ],
   "source": [
    "for max_depth in [3,4,5,6]:\n",
    "    # the DT classifier\n",
    "    dtree = tree.DecisionTreeClassifier(max_depth=max_depth)\n",
    "\n",
    "    # train it (build the tree)\n",
    "    dtree = dtree.fit(X_train, y_train) \n",
    "\n",
    "    # write out the dtree to tree.dot (or another filename of your choosing...)\n",
    "    filename = 'treeown' + str(max_depth) + '.dot'\n",
    "    tree.export_graphviz(dtree, out_file=filename,   # the filename constructed above...!\n",
    "                            feature_names=feature_names,  filled=True, \n",
    "                            rotate=False, # LR vs UD\n",
    "                            class_names=target_names, \n",
    "                             rounded=True,  \n",
    "                         special_characters=True )  # lots of options!\n",
    "    #\n",
    "    # Visualize the resulting graphs (the trees) at www.webgraphviz.com\n",
    "    #\n",
    "    print(\"Wrote the file\", filename)  \n",
    "    "
   ]
  },
  {
   "cell_type": "code",
   "execution_count": 61,
   "metadata": {},
   "outputs": [
    {
     "name": "stdout",
     "output_type": "stream",
     "text": [
      "Warning: Could not load \"/Users/Indu/anaconda3/lib/graphviz/libgvplugin_pango.6.dylib\" - file not found\n",
      "Warning: Could not load \"/Users/Indu/anaconda3/lib/graphviz/libgvplugin_pango.6.dylib\" - file not found\n",
      "Warning: Could not load \"/Users/Indu/anaconda3/lib/graphviz/libgvplugin_pango.6.dylib\" - file not found\n",
      "Warning: Could not load \"/Users/Indu/anaconda3/lib/graphviz/libgvplugin_pango.6.dylib\" - file not found\n",
      "Warning: Could not load \"/Users/Indu/anaconda3/lib/graphviz/libgvplugin_pango.6.dylib\" - file not found\n",
      "Warning: Could not load \"/Users/Indu/anaconda3/lib/graphviz/libgvplugin_pango.6.dylib\" - file not found\n",
      "Warning: Could not load \"/Users/Indu/anaconda3/lib/graphviz/libgvplugin_pango.6.dylib\" - file not found\n",
      "Warning: Could not load \"/Users/Indu/anaconda3/lib/graphviz/libgvplugin_pango.6.dylib\" - file not found\n",
      "Warning: Could not load \"/Users/Indu/anaconda3/lib/graphviz/libgvplugin_pango.6.dylib\" - file not found\n",
      "Warning: Could not load \"/Users/Indu/anaconda3/lib/graphviz/libgvplugin_pango.6.dylib\" - file not found\n",
      "Warning: Could not load \"/Users/Indu/anaconda3/lib/graphviz/libgvplugin_pango.6.dylib\" - file not found\n",
      "Warning: Could not load \"/Users/Indu/anaconda3/lib/graphviz/libgvplugin_pango.6.dylib\" - file not found\n"
     ]
    },
    {
     "data": {
      "image/png": "[encoded data removed]",
      "text/plain": [
       "<matplotlib.figure.Figure at 0x1a0b3c3dd8>"
      ]
     },
     "metadata": {},
     "output_type": "display_data"
    }
   ],
   "source": [
    "import matplotlib.image as mp\n",
    "import matplotlib.pyplot as plt\n",
    "! dot -Tpng 'treeown3.dot' -o 'treeown3.png'\n",
    "! dot -Tpng 'treeown4.dot' -o 'treeown4.png'\n",
    "! dot -Tpng 'treeown5.dot' -o 'treeown5.png'\n",
    "! dot -Tpng 'treeown6.dot' -o 'treeown6.png'\n",
    "\n",
    "img= mp.imread('treeown6.png')\n",
    "plt.imshow(img)\n",
    "plt.show()"
   ]
  },
  {
   "cell_type": "code",
   "execution_count": 62,
   "metadata": {},
   "outputs": [
    {
     "name": "stdout",
     "output_type": "stream",
     "text": [
      "For depth= 1 average CV score =  0.7548872180451128\n",
      "For depth= 2 average CV score =  0.7712770732802154\n",
      "For depth= 3 average CV score =  0.7795140837167546\n",
      "For depth= 4 average CV score =  0.7645045449444507\n",
      "For depth= 5 average CV score =  0.7757266300078555\n",
      "For depth= 6 average CV score =  0.7667545729996632\n",
      "For depth= 7 average CV score =  0.768269554483223\n",
      "For depth= 8 average CV score =  0.7630288407586129\n",
      "For depth= 9 average CV score =  0.7480754124116261\n"
     ]
    }
   ],
   "source": [
    "for max_depth in range(1,10):\n",
    "    # create our classifier\n",
    "    dtree = tree.DecisionTreeClassifier(max_depth=max_depth)\n",
    "    #\n",
    "    # cross-validate to tune our model (this week, all-at-once)\n",
    "    #\n",
    "    scores = cross_val_score(dtree, X_train, y_train, cv=5)\n",
    "    average_cv_score = scores.mean()\n",
    "    print(\"For depth=\", max_depth, \"average CV score = \", average_cv_score)  \n",
    "    # print(\"      Scores:\", scores)\n",
    "\n",
    "# import sys\n",
    "# print(\"bye!\")\n",
    "# sys.exit(0)"
   ]
  },
  {
   "cell_type": "code",
   "execution_count": 63,
   "metadata": {},
   "outputs": [
    {
     "name": "stdout",
     "output_type": "stream",
     "text": [
      "\n",
      "Choosing MAX_DEPTH = 4 \n",
      "\n"
     ]
    }
   ],
   "source": [
    "MAX_DEPTH = 4   # choose a MAX_DEPTH based on cross-validation... \n",
    "print(\"\\nChoosing MAX_DEPTH =\", MAX_DEPTH, \"\\n\")"
   ]
  },
  {
   "cell_type": "code",
   "execution_count": 64,
   "metadata": {},
   "outputs": [
    {
     "name": "stdout",
     "output_type": "stream",
     "text": [
      "Decision-tree predictions:\n",
      "\n"
     ]
    }
   ],
   "source": [
    "\n",
    "# our decision-tree classifier...\n",
    "dtree = tree.DecisionTreeClassifier(max_depth=MAX_DEPTH)\n",
    "dtree = dtree.fit(X_train, y_train) \n",
    "\n",
    "#\n",
    "# and... Predict the unknown data labels\n",
    "#\n",
    "print(\"Decision-tree predictions:\\n\")\n",
    "predicted_labels = dtree.predict(X_test)\n",
    "answer_labels = y_test"
   ]
  },
  {
   "cell_type": "code",
   "execution_count": 66,
   "metadata": {},
   "outputs": [
    {
     "name": "stdout",
     "output_type": "stream",
     "text": [
      "Predicted   | Answer     \n",
      "-------     | -------    \n",
      "1           | 1          \n",
      "1           | 0          \n",
      "0           | 0          \n",
      "1           | 1          \n",
      "1           | 1          \n",
      "0           | 0          \n",
      "0           | 0          \n",
      "0           | 0          \n",
      "1           | 0          \n",
      "1           | 1          \n",
      "1           | 1          \n",
      "1           | 1          \n",
      "0           | 0          \n",
      "0           | 0          \n",
      "0           | 0          \n",
      "1           | 1          \n",
      "1           | 0          \n",
      "1           | 1          \n",
      "0           | 0          \n",
      "1           | 1          \n",
      "0           | 0          \n",
      "1           | 1          \n",
      "1           | 1          \n",
      "1           | 0          \n",
      "1           | 1          \n",
      "\n",
      "dtree.feature_importances_ are\n",
      "       [0.         0.         0.         0.         0.         0.\n",
      " 0.02051813 0.         0.         0.         0.         0.\n",
      " 0.         0.         0.01410022 0.         0.         0.06829651\n",
      " 0.         0.         0.         0.         0.02753859 0.03290793\n",
      " 0.         0.         0.         0.         0.         0.0097968\n",
      " 0.         0.         0.         0.02349734 0.         0.\n",
      " 0.         0.         0.1699142  0.02103245 0.61239784]\n",
      "Order: ['InvTurnover', 'ReceivTurnover', 'WCTurnover', 'TATurnover', 'CurrentRatio', 'CashRatio', 'DebtToAsset', 'FinLvgRatio', 'InterestCoverage', 'NetDebtTOEBITDA', 'GrossProfit', 'Profitability', 'ROA', 'ROE', 'PE', 'BM', 'EVtoEBITDA', 'DivYield', 'PricetoCF', 'OCFtoRev', 'gTA', 'gREV', 'deltaEPS', 'deltaInvTurnover', 'deltaReceivTurnover', 'deltaWCTurnover', 'deltaTATurnover', 'deltaCurrentRatio', 'deltaCashRatio', 'deltaDebtToAsset', 'deltaFinLvgRatio', 'deltaInterestCoverage', 'deltaNetDebtTOEBITDA', 'deltaGrossProfit', 'deltaProfitability', 'deltaROA', 'deltaROE', 'deltaPE', 'deltaBM', 'deltaEVtoEBITDA', 'deltaDivYield']\n"
     ]
    }
   ],
   "source": [
    "s = \"{0:<11} | {1:<11}\".format(\"Predicted\",\"Answer\")\n",
    "#  arg0: left-aligned, 11 spaces, string, arg1: ditto\n",
    "print(s)\n",
    "s = \"{0:<11} | {1:<11}\".format(\"-------\",\"-------\")\n",
    "print(s)\n",
    "# the table...\n",
    "for p, a in zip( predicted_labels, answer_labels ):\n",
    "    s = \"{0:<11} | {1:<11}\".format(p,a)\n",
    "    print(s)\n",
    "\n",
    "#\n",
    "# feature importances!\n",
    "#\n",
    "print()\n",
    "print(\"dtree.feature_importances_ are\\n      \", dtree.feature_importances_) \n",
    "print(\"Order:\", feature_names[0:64])\n",
    "\n"
   ]
  },
  {
   "cell_type": "markdown",
   "metadata": {},
   "source": [
    "# Random Forest"
   ]
  },
  {
   "cell_type": "code",
   "execution_count": 67,
   "metadata": {},
   "outputs": [],
   "source": [
    "X_labeled = X_all[25:,:]  # make the 10 into 0 to keep all of the data\n",
    "y_labeled = y_all[25:]    # same for this line\n",
    "\n",
    "#\n",
    "# we can scramble the data - but only the labeled data!\n",
    "# \n",
    "indices = np.random.permutation(len(X_labeled))  # this scrambles the data each time\n",
    "X_data_full = X_labeled[indices]\n",
    "y_data_full = y_labeled[indices]\n",
    "\n",
    "X_train = X_data_full\n",
    "y_train = y_data_full"
   ]
  },
  {
   "cell_type": "code",
   "execution_count": 68,
   "metadata": {},
   "outputs": [
    {
     "name": "stdout",
     "output_type": "stream",
     "text": [
      "2 100 CV scores' average: 0.7899225676130625\n",
      "2 110 CV scores' average: 0.7929413084951185\n",
      "2 120 CV scores' average: 0.7959207720794523\n",
      "2 130 CV scores' average: 0.7906856693973741\n",
      "2 140 CV scores' average: 0.7914319380540905\n",
      "2 150 CV scores' average: 0.7899281786555943\n",
      "2 160 CV scores' average: 0.7929413084951185\n",
      "2 170 CV scores' average: 0.7921782067108069\n",
      "2 180 CV scores' average: 0.7929356974525867\n",
      "2 190 CV scores' average: 0.7951801144652677\n",
      "2 200 CV scores' average: 0.7974189204354168\n",
      "2 210 CV scores' average: 0.7914263270115589\n",
      "2 220 CV scores' average: 0.7966670407361688\n",
      "2 230 CV scores' average: 0.7951688923802042\n",
      "2 240 CV scores' average: 0.7951913365503311\n",
      "3 100 CV scores' average: 0.8026315789473685\n",
      "3 110 CV scores' average: 0.8063909774436091\n",
      "3 120 CV scores' average: 0.8048872180451128\n",
      "3 130 CV scores' average: 0.8041241162608012\n",
      "3 140 CV scores' average: 0.8048872180451128\n",
      "3 150 CV scores' average: 0.8056390977443609\n",
      "3 160 CV scores' average: 0.8026484120749634\n",
      "3 170 CV scores' average: 0.807126024015262\n",
      "3 180 CV scores' average: 0.801150263718999\n",
      "3 190 CV scores' average: 0.8003927729772192\n",
      "3 200 CV scores' average: 0.8033890696891482\n",
      "3 210 CV scores' average: 0.8101110986421276\n",
      "3 220 CV scores' average: 0.8056390977443609\n",
      "3 230 CV scores' average: 0.7996633374480979\n",
      "3 240 CV scores' average: 0.8033946807316799\n",
      "4 100 CV scores' average: 0.8049096622152396\n",
      "4 110 CV scores' average: 0.8130905622264617\n",
      "4 120 CV scores' average: 0.8056334867018291\n",
      "4 130 CV scores' average: 0.8048703849175178\n",
      "4 140 CV scores' average: 0.8056503198294243\n",
      "4 150 CV scores' average: 0.8130905622264617\n",
      "4 160 CV scores' average: 0.8093704410279429\n",
      "4 170 CV scores' average: 0.8093704410279429\n",
      "4 180 CV scores' average: 0.8093760520704747\n",
      "4 190 CV scores' average: 0.8093648299854113\n",
      "4 200 CV scores' average: 0.8116260801256873\n",
      "4 210 CV scores' average: 0.8086241723712266\n",
      "4 220 CV scores' average: 0.8101167096846595\n",
      "4 230 CV scores' average: 0.8093648299854113\n",
      "4 240 CV scores' average: 0.807883514757042\n"
     ]
    }
   ],
   "source": [
    "L=[]\n",
    "\n",
    "for max_depth in range(2,5):\n",
    "    for n_estimators in range(100,250,10):\n",
    "        rforest = ensemble.RandomForestClassifier(max_depth = max_depth, n_estimators = n_estimators)\n",
    "\n",
    "        # an example call to run 5x cross-validation on the labeled data\n",
    "        scores = cross_val_score(rforest, X_train, y_train, cv=5)\n",
    "        #print(max_depth,n_estimators,\"CV scores:\", scores)\n",
    "        print(max_depth,n_estimators,\"CV scores' average:\", scores.mean())\n",
    "        L+=[[scores.mean(),max_depth,n_estimators]]\n",
    "\n"
   ]
  },
  {
   "cell_type": "code",
   "execution_count": 69,
   "metadata": {},
   "outputs": [
    {
     "data": {
      "text/plain": [
       "[0.8130905622264617, 4, 150]"
      ]
     },
     "execution_count": 69,
     "metadata": {},
     "output_type": "execute_result"
    }
   ],
   "source": [
    "max(L)"
   ]
  },
  {
   "cell_type": "code",
   "execution_count": 71,
   "metadata": {},
   "outputs": [
    {
     "name": "stdout",
     "output_type": "stream",
     "text": [
      "\n",
      "Using MAX_DEPTH= 4 and NUM_TREES= 150\n",
      "Random-forest predictions:\n",
      "\n"
     ]
    }
   ],
   "source": [
    "X_test = X_all[0:25,:]              # the final testing data\n",
    "X_train = X_all[25:,:]              # the training data\n",
    "\n",
    "y_test = y_all[0:25]                  # the final testing outputs/labels (unknown)\n",
    "y_train = y_all[25:]                  # the training outputs/labels (known)\n",
    "\n",
    "# these next lines is where the full training data is used for the model\n",
    "MAX_DEPTH = 4\n",
    "NUM_TREES = 150\n",
    "print()\n",
    "print(\"Using MAX_DEPTH=\", MAX_DEPTH, \"and NUM_TREES=\", NUM_TREES)\n",
    "rforest = ensemble.RandomForestClassifier(max_depth=MAX_DEPTH, n_estimators=NUM_TREES)\n",
    "rforest = rforest.fit(X_train, y_train) \n",
    "\n",
    "# here are some examples, printed out:\n",
    "print(\"Random-forest predictions:\\n\")\n",
    "predicted_labels = rforest.predict(X_test)\n",
    "answer_labels = y_test # note that we're \"cheating\" here!\n",
    "\n"
   ]
  },
  {
   "cell_type": "code",
   "execution_count": 72,
   "metadata": {},
   "outputs": [
    {
     "name": "stdout",
     "output_type": "stream",
     "text": [
      "Predicted   | Answer     \n",
      "-------     | -------    \n",
      "1           | 1          \n",
      "1           | 0          \n",
      "0           | 0          \n",
      "1           | 1          \n",
      "1           | 1          \n",
      "0           | 0          \n",
      "0           | 0          \n",
      "0           | 0          \n",
      "1           | 0          \n",
      "1           | 1          \n",
      "0           | 1          \n",
      "1           | 1          \n",
      "0           | 0          \n",
      "0           | 0          \n",
      "0           | 0          \n",
      "1           | 1          \n",
      "0           | 0          \n",
      "1           | 1          \n",
      "0           | 0          \n",
      "1           | 1          \n",
      "0           | 0          \n",
      "1           | 1          \n",
      "1           | 1          \n",
      "0           | 0          \n",
      "1           | 1          \n",
      "\n",
      "rforest.feature_importances_ are\n",
      "       [0.00084277 0.00145497 0.00387963 0.00411626 0.00137324 0.0004469\n",
      " 0.00620882 0.00548887 0.00326709 0.00276202 0.004182   0.00405054\n",
      " 0.00600823 0.00561783 0.02099994 0.02728981 0.02546301 0.02818797\n",
      " 0.0052965  0.0023725  0.00957535 0.01110352 0.02532932 0.00368981\n",
      " 0.00359084 0.00381888 0.0053413  0.00323926 0.00338009 0.00604132\n",
      " 0.00661918 0.01530022 0.01379806 0.01462309 0.02964864 0.03152121\n",
      " 0.01001165 0.06072715 0.24639675 0.11707735 0.2198581 ]\n",
      "Order: ['InvTurnover', 'ReceivTurnover', 'WCTurnover', 'TATurnover', 'CurrentRatio', 'CashRatio', 'DebtToAsset', 'FinLvgRatio', 'InterestCoverage', 'NetDebtTOEBITDA', 'GrossProfit', 'Profitability', 'ROA', 'ROE', 'PE', 'BM', 'EVtoEBITDA', 'DivYield', 'PricetoCF', 'OCFtoRev', 'gTA', 'gREV', 'deltaEPS', 'deltaInvTurnover', 'deltaReceivTurnover', 'deltaWCTurnover', 'deltaTATurnover', 'deltaCurrentRatio', 'deltaCashRatio', 'deltaDebtToAsset', 'deltaFinLvgRatio', 'deltaInterestCoverage', 'deltaNetDebtTOEBITDA', 'deltaGrossProfit', 'deltaProfitability', 'deltaROA', 'deltaROE', 'deltaPE', 'deltaBM', 'deltaEVtoEBITDA', 'deltaDivYield']\n"
     ]
    }
   ],
   "source": [
    "s = \"{0:<11} | {1:<11}\".format(\"Predicted\",\"Answer\")\n",
    "#  arg0: left-aligned, 11 spaces, string, arg1: ditto\n",
    "print(s)\n",
    "s = \"{0:<11} | {1:<11}\".format(\"-------\",\"-------\")\n",
    "print(s)\n",
    "# the table...\n",
    "for p, a in zip( predicted_labels, answer_labels ):\n",
    "    s = \"{0:<11} | {1:<11}\".format(p,a)\n",
    "    print(s)\n",
    "\n",
    "#\n",
    "# feature importances\n",
    "#\n",
    "print(\"\\nrforest.feature_importances_ are\\n      \", rforest.feature_importances_) \n",
    "print(\"Order:\", feature_names[0:64])\n",
    "\n",
    "\n",
    "\n"
   ]
  },
  {
   "cell_type": "markdown",
   "metadata": {
    "collapsed": true
   },
   "source": [
    "# Support Vector Machine"
   ]
  },
  {
   "cell_type": "code",
   "execution_count": 73,
   "metadata": {},
   "outputs": [],
   "source": [
    "from sklearn.svm import SVC\n"
   ]
  },
  {
   "cell_type": "code",
   "execution_count": 77,
   "metadata": {},
   "outputs": [
    {
     "data": {
      "text/plain": [
       "SVC(C=1.0, cache_size=200, class_weight=None, coef0=0.0,\n",
       "  decision_function_shape='ovr', degree=3, gamma='auto', kernel='linear',\n",
       "  max_iter=-1, probability=False, random_state=None, shrinking=True,\n",
       "  tol=0.001, verbose=False)"
      ]
     },
     "execution_count": 77,
     "metadata": {},
     "output_type": "execute_result"
    }
   ],
   "source": [
    "svm_clf = SVC(kernel=\"linear\")\n",
    "X = X_train\n",
    "y = y_train\n",
    "svm_clf.fit(X, y)"
   ]
  },
  {
   "cell_type": "code",
   "execution_count": 78,
   "metadata": {},
   "outputs": [],
   "source": [
    "x0 = np.linspace(0, 5.5, 200)\n",
    "pred_1 = 5*x0 - 20\n",
    "pred_2 = x0 - 1.8\n",
    "pred_3 = 0.1 * x0 + 0.5\n"
   ]
  },
  {
   "cell_type": "code",
   "execution_count": 86,
   "metadata": {},
   "outputs": [
    {
     "data": {
      "image/png": "[encoded data removed]",
      "text/plain": [
       "<matplotlib.figure.Figure at 0x1a0c597cc0>"
      ]
     },
     "metadata": {},
     "output_type": "display_data"
    }
   ],
   "source": [
    "def plot_svc_decision_boundary(svm_clf, xmin, xmax):\n",
    "    w = svm_clf.coef_[0]\n",
    "    b = svm_clf.intercept_[0]\n",
    "\n",
    "    # At the decision boundary, w0*x0 + w1*x1 + b = 0\n",
    "    # => x1 = -w0/w1 * x0 - b/w1\n",
    "    x0 = np.linspace(xmin, xmax, 200)\n",
    "    decision_boundary = -w[0]/w[1] * x0 - b/w[1]\n",
    "\n",
    "    margin = 1/w[1]\n",
    "    gutter_up = decision_boundary + margin\n",
    "    gutter_down = decision_boundary - margin\n",
    "\n",
    "    svs = svm_clf.support_vectors_\n",
    "    plt.scatter(svs[:, 0], svs[:, 1], s=180, facecolors='#FFAAAA')\n",
    "    plt.plot(x0, decision_boundary, \"k-\", linewidth=2)\n",
    "    plt.plot(x0, gutter_up, \"k--\", linewidth=2)\n",
    "    plt.plot(x0, gutter_down, \"k--\", linewidth=2)\n",
    "\n",
    "plt.figure(figsize=(12,2.7))\n",
    "\n",
    "plt.subplot(121)\n",
    "plt.plot(x0, pred_1, \"g--\", linewidth=2)\n",
    "plt.plot(x0, pred_2, \"m-\", linewidth=2)\n",
    "plt.plot(x0, pred_3, \"r-\", linewidth=2)\n",
    "plt.plot(X[:, 0][y==1], X[:, 1][y==1], \"bs\", label=\"0\")\n",
    "plt.plot(X[:, 0][y==0], X[:, 1][y==0], \"yo\", label=\"1\")\n",
    "plt.xlabel(\"Inventory Turnover\", fontsize=14)\n",
    "plt.ylabel(\"Receivable Turnover\", fontsize=14)\n",
    "plt.legend(loc=\"upper left\", fontsize=14)\n",
    "plt.axis([0, 5.5, 0, 2])\n",
    "\n",
    "plt.subplot(122)\n",
    "plot_svc_decision_boundary(svm_clf, 0, 5.5)\n",
    "plt.plot(X[:, 0][y==1], X[:, 1][y==1], \"bs\")\n",
    "plt.plot(X[:, 0][y==0], X[:, 1][y==0], \"yo\")\n",
    "plt.xlabel(\"Receivable Turnover\", fontsize=14)\n",
    "plt.axis([0, 5.5, 0, 2])\n",
    "\n",
    "savefig(\"large_margin_classification_plot\")\n",
    "plt.show()"
   ]
  },
  {
   "cell_type": "markdown",
   "metadata": {},
   "source": [
    "### Sensitivity to feature scales\n"
   ]
  },
  {
   "cell_type": "code",
   "execution_count": 88,
   "metadata": {},
   "outputs": [
    {
     "data": {
      "image/png": "[encoded data removed]",
      "text/plain": [
       "<matplotlib.figure.Figure at 0x1a0e33af60>"
      ]
     },
     "metadata": {},
     "output_type": "display_data"
    }
   ],
   "source": [
    "Xs = np.array([[1, 50], [5, 20], [3, 80], [5, 60]]).astype(np.float64)\n",
    "ys = np.array([0, 0, 1, 1])\n",
    "svm_clf = SVC(kernel=\"linear\")\n",
    "svm_clf.fit(Xs, ys)\n",
    "\n",
    "plt.figure(figsize=(12,3.2))\n",
    "plt.subplot(121)\n",
    "plt.plot(Xs[:, 0][ys==1], Xs[:, 1][ys==1], \"bo\")\n",
    "plt.plot(Xs[:, 0][ys==0], Xs[:, 1][ys==0], \"ms\")\n",
    "plot_svc_decision_boundary(svm_clf, 0, 6)\n",
    "plt.xlabel(\"$x_0$\", fontsize=20)\n",
    "plt.ylabel(\"$x_1$  \", fontsize=20, rotation=0)\n",
    "plt.title(\"Unscaled\", fontsize=16)\n",
    "plt.axis([0, 6, 0, 90])\n",
    "\n",
    "from sklearn.preprocessing import StandardScaler\n",
    "scaler = StandardScaler()\n",
    "X_scaled = scaler.fit_transform(Xs)\n",
    "svm_clf.fit(X_scaled, ys)\n",
    "\n",
    "plt.subplot(122)\n",
    "plt.plot(X_scaled[:, 0][ys==1], X_scaled[:, 1][ys==1], \"bo\")\n",
    "plt.plot(X_scaled[:, 0][ys==0], X_scaled[:, 1][ys==0], \"ms\")\n",
    "plot_svc_decision_boundary(svm_clf, -2, 2)\n",
    "plt.xlabel(\"$x_0$\", fontsize=20)\n",
    "plt.title(\"Scaled\", fontsize=16)\n",
    "plt.axis([-2, 2, -2, 2])\n",
    "\n",
    "savefig(\"sensitivity_to_feature_scales_plot\")"
   ]
  },
  {
   "cell_type": "markdown",
   "metadata": {},
   "source": [
    "### SVM Classifier"
   ]
  },
  {
   "cell_type": "code",
   "execution_count": 89,
   "metadata": {},
   "outputs": [
    {
     "name": "stderr",
     "output_type": "stream",
     "text": [
      "/Users/Indu/anaconda3/lib/python3.6/site-packages/sklearn/linear_model/stochastic_gradient.py:117: DeprecationWarning: n_iter parameter is deprecated in 0.19 and will be removed in 0.21. Use max_iter and tol instead.\n",
      "  DeprecationWarning)\n"
     ]
    },
    {
     "name": "stdout",
     "output_type": "stream",
     "text": [
      "LinearSVC:                    [0.87239683] [[-1.76366310e-02  7.23978228e-02 -4.92614148e-02 -1.06707978e-01\n",
      "  -1.39142734e-01  1.29020249e-01  1.48947663e-01 -1.76585976e-01\n",
      "   1.06890470e-01 -4.61662541e-01 -5.35998075e-02  1.27116721e-01\n",
      "  -2.53614467e-01  2.80083612e-01  1.00859567e-01 -5.21637507e+00\n",
      "   1.89860334e-01 -1.23255175e+00  5.45703876e-02 -1.29609268e-01\n",
      "   1.85678086e-01  2.09888498e-01 -4.22005909e-02  2.16250729e-02\n",
      "   3.02659289e-01 -1.45484242e-03 -9.60884290e-02  3.74855123e-02\n",
      "  -1.89870479e-02  8.53155029e-02  1.31071722e-03  7.04848163e-02\n",
      "  -2.26883021e+00  3.61119043e-01 -3.90900314e-01  7.91654071e-01\n",
      "   6.25788589e-03 -8.41140009e-02 -1.06078073e+01  3.39284965e+00\n",
      "  -7.33109382e+00]]\n",
      "SVC:                          [0.87740307] [[-1.19584144e-02  6.54828306e-02 -8.05276553e-02 -1.22315965e-01\n",
      "  -1.50301454e-01  1.59298238e-01  1.35277112e-01 -1.71784466e-01\n",
      "   9.93291648e-02 -4.30305688e-01 -5.09796391e-02  9.26757229e-02\n",
      "  -2.16591830e-01  2.83061711e-01  1.74426319e-02 -5.49459189e+00\n",
      "   2.88851156e-01 -8.60718646e-01  4.28050856e-02 -1.11290253e-01\n",
      "   2.28286717e-01  1.79059263e-01 -2.62672454e-03  3.16302558e-02\n",
      "   3.19589540e-01 -5.67759097e-03 -8.06710781e-02  6.10829785e-02\n",
      "  -6.41443950e-02  9.37323309e-02  8.85037041e-02  6.83121408e-02\n",
      "  -2.67000001e+00  3.28802390e-01 -3.63933705e-01  7.02748466e-01\n",
      "  -1.15164128e-01  1.29312945e-01 -1.04924025e+01  3.31282277e+00\n",
      "  -7.28523449e+00]]\n",
      "SGDClassifier(alpha=0.00015): [0.878] [[-2.47520864e-02  6.29713291e-02 -9.85436597e-02 -1.10278416e-01\n",
      "  -1.39838115e-01  1.44927951e-01  1.40261804e-01 -1.39010991e-01\n",
      "   9.98098004e-02 -4.18954950e-01 -5.65300850e-02  8.27843897e-02\n",
      "  -2.17562102e-01  2.78332316e-01  1.13348795e-02 -5.32080789e+00\n",
      "   2.64078581e-01 -9.73071222e-01  3.29295386e-02 -1.14105876e-01\n",
      "   2.37547744e-01  1.73937630e-01 -3.19318886e-03  3.55069733e-02\n",
      "   3.48761780e-01  2.98507689e-03 -7.35462801e-02  7.58253477e-02\n",
      "  -6.80333629e-02  8.21669632e-02  5.07411590e-02  7.16462052e-02\n",
      "  -2.74819953e+00  3.24230036e-01 -3.50431081e-01  6.92738050e-01\n",
      "  -1.06347955e-01  1.35709445e-01 -1.05430451e+01  3.38115649e+00\n",
      "  -7.29649600e+00]]\n"
     ]
    }
   ],
   "source": [
    "from sklearn.svm import SVC, LinearSVC\n",
    "from sklearn.linear_model import SGDClassifier\n",
    "from sklearn.preprocessing import StandardScaler\n",
    "\n",
    "C = 5\n",
    "alpha = 1 / (C * len(X))\n",
    "\n",
    "lin_clf = LinearSVC(loss=\"hinge\", C=C, random_state=42)\n",
    "svm_clf = SVC(kernel=\"linear\", C=C)\n",
    "sgd_clf = SGDClassifier(loss=\"hinge\", learning_rate=\"constant\", eta0=0.001, alpha=alpha,\n",
    "                        n_iter=100000, random_state=42)\n",
    "\n",
    "scaler = StandardScaler()\n",
    "X_scaled = scaler.fit_transform(X)\n",
    "\n",
    "lin_clf.fit(X_scaled, y)\n",
    "svm_clf.fit(X_scaled, y)\n",
    "sgd_clf.fit(X_scaled, y)\n",
    "\n",
    "print(\"LinearSVC:                   \", lin_clf.intercept_, lin_clf.coef_)\n",
    "print(\"SVC:                         \", svm_clf.intercept_, svm_clf.coef_)\n",
    "print(\"SGDClassifier(alpha={:.5f}):\".format(sgd_clf.alpha), sgd_clf.intercept_, sgd_clf.coef_)"
   ]
  },
  {
   "cell_type": "code",
   "execution_count": 97,
   "metadata": {},
   "outputs": [
    {
     "data": {
      "text/plain": [
       "0.6853512705530643"
      ]
     },
     "execution_count": 97,
     "metadata": {},
     "output_type": "execute_result"
    }
   ],
   "source": [
    "from sklearn.metrics import accuracy_score\n",
    "\n",
    "y_pred = lin_clf.predict(X_train)\n",
    "accuracy_score(y_train, y_pred)"
   ]
  },
  {
   "cell_type": "code",
   "execution_count": 99,
   "metadata": {},
   "outputs": [],
   "source": [
    "scaler = StandardScaler()\n",
    "X_train_scaled = scaler.fit_transform(X_train.astype(np.float32))\n",
    "X_test_scaled = scaler.transform(X_test.astype(np.float32))"
   ]
  },
  {
   "cell_type": "code",
   "execution_count": 100,
   "metadata": {},
   "outputs": [
    {
     "data": {
      "text/plain": [
       "LinearSVC(C=1.0, class_weight=None, dual=True, fit_intercept=True,\n",
       "     intercept_scaling=1, loss='squared_hinge', max_iter=1000,\n",
       "     multi_class='ovr', penalty='l2', random_state=42, tol=0.0001,\n",
       "     verbose=0)"
      ]
     },
     "execution_count": 100,
     "metadata": {},
     "output_type": "execute_result"
    }
   ],
   "source": [
    "lin_clf = LinearSVC(random_state=42)\n",
    "lin_clf.fit(X_train_scaled, y_train)"
   ]
  },
  {
   "cell_type": "code",
   "execution_count": 101,
   "metadata": {},
   "outputs": [
    {
     "data": {
      "text/plain": [
       "0.6943198804185351"
      ]
     },
     "execution_count": 101,
     "metadata": {},
     "output_type": "execute_result"
    }
   ],
   "source": [
    "y_pred = lin_clf.predict(X_train_scaled)\n",
    "accuracy_score(y_train, y_pred)"
   ]
  },
  {
   "cell_type": "code",
   "execution_count": 103,
   "metadata": {},
   "outputs": [
    {
     "data": {
      "text/plain": [
       "SVC(C=1.0, cache_size=200, class_weight=None, coef0=0.0,\n",
       "  decision_function_shape='ovr', degree=3, gamma='auto', kernel='rbf',\n",
       "  max_iter=-1, probability=False, random_state=None, shrinking=True,\n",
       "  tol=0.001, verbose=False)"
      ]
     },
     "execution_count": 103,
     "metadata": {},
     "output_type": "execute_result"
    }
   ],
   "source": [
    "svm_clf = SVC(decision_function_shape=\"ovr\")\n",
    "svm_clf.fit(X_train_scaled[:10000], y_train[:10000])"
   ]
  },
  {
   "cell_type": "code",
   "execution_count": 104,
   "metadata": {},
   "outputs": [
    {
     "data": {
      "text/plain": [
       "0.7070254110612855"
      ]
     },
     "execution_count": 104,
     "metadata": {},
     "output_type": "execute_result"
    }
   ],
   "source": [
    "y_pred = svm_clf.predict(X_train_scaled)\n",
    "accuracy_score(y_train, y_pred)"
   ]
  },
  {
   "cell_type": "markdown",
   "metadata": {},
   "source": [
    "### Randomization"
   ]
  },
  {
   "cell_type": "code",
   "execution_count": 105,
   "metadata": {},
   "outputs": [
    {
     "name": "stdout",
     "output_type": "stream",
     "text": [
      "Fitting 3 folds for each of 10 candidates, totalling 30 fits\n",
      "[CV] C=5.016775169781472, gamma=0.007783246163164586 .................\n",
      "[CV] .. C=5.016775169781472, gamma=0.007783246163164586, total=   0.0s\n",
      "[CV] C=5.016775169781472, gamma=0.007783246163164586 .................\n",
      "[CV] .. C=5.016775169781472, gamma=0.007783246163164586, total=   0.0s\n",
      "[CV] C=5.016775169781472, gamma=0.007783246163164586 .................\n",
      "[CV] .. C=5.016775169781472, gamma=0.007783246163164586, total=   0.0s\n",
      "[CV] C=5.155968032306745, gamma=0.005842172189102732 .................\n"
     ]
    },
    {
     "name": "stderr",
     "output_type": "stream",
     "text": [
      "[Parallel(n_jobs=1)]: Done   1 out of   1 | elapsed:    0.1s remaining:    0.0s\n"
     ]
    },
    {
     "name": "stdout",
     "output_type": "stream",
     "text": [
      "[CV] .. C=5.155968032306745, gamma=0.005842172189102732, total=   0.0s\n",
      "[CV] C=5.155968032306745, gamma=0.005842172189102732 .................\n",
      "[CV] .. C=5.155968032306745, gamma=0.005842172189102732, total=   0.0s\n",
      "[CV] C=5.155968032306745, gamma=0.005842172189102732 .................\n",
      "[CV] .. C=5.155968032306745, gamma=0.005842172189102732, total=   0.0s\n",
      "[CV] C=2.0583385339912112, gamma=0.012772441402269482 ................\n",
      "[CV] . C=2.0583385339912112, gamma=0.012772441402269482, total=   0.0s\n",
      "[CV] C=2.0583385339912112, gamma=0.012772441402269482 ................\n",
      "[CV] . C=2.0583385339912112, gamma=0.012772441402269482, total=   0.0s\n",
      "[CV] C=2.0583385339912112, gamma=0.012772441402269482 ................\n",
      "[CV] . C=2.0583385339912112, gamma=0.012772441402269482, total=   0.0s\n",
      "[CV] C=5.200644626990736, gamma=0.012902048772960955 .................\n",
      "[CV] .. C=5.200644626990736, gamma=0.012902048772960955, total=   0.0s\n",
      "[CV] C=5.200644626990736, gamma=0.012902048772960955 .................\n",
      "[CV] .. C=5.200644626990736, gamma=0.012902048772960955, total=   0.0s\n",
      "[CV] C=5.200644626990736, gamma=0.012902048772960955 .................\n",
      "[CV] .. C=5.200644626990736, gamma=0.012902048772960955, total=   0.0s\n",
      "[CV] C=6.507686261812127, gamma=0.012883101106219562 .................\n",
      "[CV] .. C=6.507686261812127, gamma=0.012883101106219562, total=   0.0s\n",
      "[CV] C=6.507686261812127, gamma=0.012883101106219562 .................\n",
      "[CV] .. C=6.507686261812127, gamma=0.012883101106219562, total=   0.0s\n",
      "[CV] C=6.507686261812127, gamma=0.012883101106219562 .................\n",
      "[CV] .. C=6.507686261812127, gamma=0.012883101106219562, total=   0.0s\n",
      "[CV] C=6.50108641321634, gamma=0.01762376394367759 ...................\n",
      "[CV] .... C=6.50108641321634, gamma=0.01762376394367759, total=   0.0s\n",
      "[CV] C=6.50108641321634, gamma=0.01762376394367759 ...................\n",
      "[CV] .... C=6.50108641321634, gamma=0.01762376394367759, total=   0.0s\n",
      "[CV] C=6.50108641321634, gamma=0.01762376394367759 ...................\n",
      "[CV] .... C=6.50108641321634, gamma=0.01762376394367759, total=   0.1s\n",
      "[CV] C=1.014730369947198, gamma=0.005477932324423463 .................\n",
      "[CV] .. C=1.014730369947198, gamma=0.005477932324423463, total=   0.1s\n",
      "[CV] C=1.014730369947198, gamma=0.005477932324423463 .................\n",
      "[CV] .. C=1.014730369947198, gamma=0.005477932324423463, total=   0.0s\n",
      "[CV] C=1.014730369947198, gamma=0.005477932324423463 .................\n",
      "[CV] .. C=1.014730369947198, gamma=0.005477932324423463, total=   0.0s\n",
      "[CV] C=1.8469766707069593, gamma=0.016401842602084795 ................\n",
      "[CV] . C=1.8469766707069593, gamma=0.016401842602084795, total=   0.0s\n",
      "[CV] C=1.8469766707069593, gamma=0.016401842602084795 ................\n",
      "[CV] . C=1.8469766707069593, gamma=0.016401842602084795, total=   0.0s\n",
      "[CV] C=1.8469766707069593, gamma=0.016401842602084795 ................\n",
      "[CV] . C=1.8469766707069593, gamma=0.016401842602084795, total=   0.1s\n",
      "[CV] C=4.805219318723156, gamma=0.00539326914172487 ..................\n",
      "[CV] ... C=4.805219318723156, gamma=0.00539326914172487, total=   0.0s\n",
      "[CV] C=4.805219318723156, gamma=0.00539326914172487 ..................\n",
      "[CV] ... C=4.805219318723156, gamma=0.00539326914172487, total=   0.0s\n",
      "[CV] C=4.805219318723156, gamma=0.00539326914172487 ..................\n",
      "[CV] ... C=4.805219318723156, gamma=0.00539326914172487, total=   0.1s\n",
      "[CV] C=10.448682136029165, gamma=0.0042349178142083565 ...............\n",
      "[CV]  C=10.448682136029165, gamma=0.0042349178142083565, total=   0.1s\n",
      "[CV] C=10.448682136029165, gamma=0.0042349178142083565 ...............\n",
      "[CV]  C=10.448682136029165, gamma=0.0042349178142083565, total=   0.0s\n",
      "[CV] C=10.448682136029165, gamma=0.0042349178142083565 ...............\n",
      "[CV]  C=10.448682136029165, gamma=0.0042349178142083565, total=   0.0s\n"
     ]
    },
    {
     "name": "stderr",
     "output_type": "stream",
     "text": [
      "[Parallel(n_jobs=1)]: Done  30 out of  30 | elapsed:    1.9s finished\n"
     ]
    },
    {
     "data": {
      "text/plain": [
       "RandomizedSearchCV(cv=None, error_score='raise',\n",
       "          estimator=SVC(C=1.0, cache_size=200, class_weight=None, coef0=0.0,\n",
       "  decision_function_shape='ovr', degree=3, gamma='auto', kernel='rbf',\n",
       "  max_iter=-1, probability=False, random_state=None, shrinking=True,\n",
       "  tol=0.001, verbose=False),\n",
       "          fit_params=None, iid=True, n_iter=10, n_jobs=1,\n",
       "          param_distributions={'gamma': <scipy.stats._distn_infrastructure.rv_frozen object at 0x1a0b569630>, 'C': <scipy.stats._distn_infrastructure.rv_frozen object at 0x104961be0>},\n",
       "          pre_dispatch='2*n_jobs', random_state=None, refit=True,\n",
       "          return_train_score='warn', scoring=None, verbose=2)"
      ]
     },
     "execution_count": 105,
     "metadata": {},
     "output_type": "execute_result"
    }
   ],
   "source": [
    "from sklearn.model_selection import RandomizedSearchCV\n",
    "from scipy.stats import reciprocal, uniform\n",
    "\n",
    "param_distributions = {\"gamma\": reciprocal(0.001, 0.1), \"C\": uniform(1, 10)}\n",
    "rnd_search_cv = RandomizedSearchCV(svm_clf, param_distributions, n_iter=10, verbose=2)\n",
    "rnd_search_cv.fit(X_train_scaled[:1000], y_train[:1000])"
   ]
  },
  {
   "cell_type": "code",
   "execution_count": 106,
   "metadata": {},
   "outputs": [
    {
     "data": {
      "text/plain": [
       "SVC(C=6.50108641321634, cache_size=200, class_weight=None, coef0=0.0,\n",
       "  decision_function_shape='ovr', degree=3, gamma=0.01762376394367759,\n",
       "  kernel='rbf', max_iter=-1, probability=False, random_state=None,\n",
       "  shrinking=True, tol=0.001, verbose=False)"
      ]
     },
     "execution_count": 106,
     "metadata": {},
     "output_type": "execute_result"
    }
   ],
   "source": [
    "rnd_search_cv.best_estimator_"
   ]
  },
  {
   "cell_type": "code",
   "execution_count": 107,
   "metadata": {},
   "outputs": [
    {
     "data": {
      "text/plain": [
       "0.681"
      ]
     },
     "execution_count": 107,
     "metadata": {},
     "output_type": "execute_result"
    }
   ],
   "source": [
    "rnd_search_cv.best_score_\n"
   ]
  },
  {
   "cell_type": "code",
   "execution_count": 108,
   "metadata": {},
   "outputs": [
    {
     "data": {
      "text/plain": [
       "SVC(C=6.50108641321634, cache_size=200, class_weight=None, coef0=0.0,\n",
       "  decision_function_shape='ovr', degree=3, gamma=0.01762376394367759,\n",
       "  kernel='rbf', max_iter=-1, probability=False, random_state=None,\n",
       "  shrinking=True, tol=0.001, verbose=False)"
      ]
     },
     "execution_count": 108,
     "metadata": {},
     "output_type": "execute_result"
    }
   ],
   "source": [
    "rnd_search_cv.best_estimator_.fit(X_train_scaled, y_train)"
   ]
  },
  {
   "cell_type": "code",
   "execution_count": 109,
   "metadata": {},
   "outputs": [
    {
     "data": {
      "text/plain": [
       "0.7070254110612855"
      ]
     },
     "execution_count": 109,
     "metadata": {},
     "output_type": "execute_result"
    }
   ],
   "source": [
    "_pred = rnd_search_cv.best_estimator_.predict(X_train_scaled)\n",
    "accuracy_score(y_train, y_pred)"
   ]
  },
  {
   "cell_type": "code",
   "execution_count": 110,
   "metadata": {},
   "outputs": [
    {
     "data": {
      "text/plain": [
       "0.72"
      ]
     },
     "execution_count": 110,
     "metadata": {},
     "output_type": "execute_result"
    }
   ],
   "source": [
    "y_pred = rnd_search_cv.best_estimator_.predict(X_test_scaled)\n",
    "accuracy_score(y_test, y_pred)"
   ]
  },
  {
   "cell_type": "markdown",
   "metadata": {},
   "source": [
    "### SVM Regressor"
   ]
  },
  {
   "cell_type": "code",
   "execution_count": 112,
   "metadata": {},
   "outputs": [],
   "source": [
    "from sklearn.datasets import fetch_california_housing"
   ]
  },
  {
   "cell_type": "code",
   "execution_count": 113,
   "metadata": {},
   "outputs": [],
   "source": [
    "from sklearn.model_selection import train_test_split\n",
    "\n",
    "X_train, X_test, y_train, y_test = train_test_split(X, y, test_size=0.2, random_state=42)"
   ]
  },
  {
   "cell_type": "code",
   "execution_count": 114,
   "metadata": {},
   "outputs": [],
   "source": [
    "from sklearn.preprocessing import StandardScaler\n",
    "\n",
    "scaler = StandardScaler()\n",
    "X_train_scaled = scaler.fit_transform(X_train)\n",
    "X_test_scaled = scaler.transform(X_test)"
   ]
  },
  {
   "cell_type": "code",
   "execution_count": 115,
   "metadata": {},
   "outputs": [
    {
     "data": {
      "text/plain": [
       "LinearSVR(C=1.0, dual=True, epsilon=0.0, fit_intercept=True,\n",
       "     intercept_scaling=1.0, loss='epsilon_insensitive', max_iter=1000,\n",
       "     random_state=42, tol=0.0001, verbose=0)"
      ]
     },
     "execution_count": 115,
     "metadata": {},
     "output_type": "execute_result"
    }
   ],
   "source": [
    "from sklearn.svm import LinearSVR\n",
    "\n",
    "lin_svr = LinearSVR(random_state=42)\n",
    "lin_svr.fit(X_train_scaled, y_train)"
   ]
  },
  {
   "cell_type": "code",
   "execution_count": 116,
   "metadata": {},
   "outputs": [
    {
     "data": {
      "text/plain": [
       "0.3147845465850509"
      ]
     },
     "execution_count": 116,
     "metadata": {},
     "output_type": "execute_result"
    }
   ],
   "source": [
    "from sklearn.metrics import mean_squared_error\n",
    "\n",
    "y_pred = lin_svr.predict(X_train_scaled)\n",
    "mse = mean_squared_error(y_train, y_pred)\n",
    "mse"
   ]
  },
  {
   "cell_type": "code",
   "execution_count": 117,
   "metadata": {},
   "outputs": [
    {
     "data": {
      "text/plain": [
       "0.5610566340264153"
      ]
     },
     "execution_count": 117,
     "metadata": {},
     "output_type": "execute_result"
    }
   ],
   "source": [
    "np.sqrt(mse)"
   ]
  },
  {
   "cell_type": "code",
   "execution_count": 118,
   "metadata": {},
   "outputs": [
    {
     "name": "stdout",
     "output_type": "stream",
     "text": [
      "Fitting 3 folds for each of 10 candidates, totalling 30 fits\n",
      "[CV] C=4.745401188473625, gamma=0.07969454818643928 ..................\n",
      "[CV] ... C=4.745401188473625, gamma=0.07969454818643928, total=   0.1s\n",
      "[CV] C=4.745401188473625, gamma=0.07969454818643928 ..................\n",
      "[CV] ... C=4.745401188473625, gamma=0.07969454818643928, total=   0.1s\n",
      "[CV] C=4.745401188473625, gamma=0.07969454818643928 ..................\n"
     ]
    },
    {
     "name": "stderr",
     "output_type": "stream",
     "text": [
      "[Parallel(n_jobs=1)]: Done   1 out of   1 | elapsed:    0.1s remaining:    0.0s\n"
     ]
    },
    {
     "name": "stdout",
     "output_type": "stream",
     "text": [
      "[CV] ... C=4.745401188473625, gamma=0.07969454818643928, total=   0.1s\n",
      "[CV] C=8.31993941811405, gamma=0.015751320499779724 ..................\n",
      "[CV] ... C=8.31993941811405, gamma=0.015751320499779724, total=   0.1s\n",
      "[CV] C=8.31993941811405, gamma=0.015751320499779724 ..................\n",
      "[CV] ... C=8.31993941811405, gamma=0.015751320499779724, total=   0.1s\n",
      "[CV] C=8.31993941811405, gamma=0.015751320499779724 ..................\n",
      "[CV] ... C=8.31993941811405, gamma=0.015751320499779724, total=   0.1s\n",
      "[CV] C=2.560186404424365, gamma=0.002051110418843397 .................\n",
      "[CV] .. C=2.560186404424365, gamma=0.002051110418843397, total=   0.1s\n",
      "[CV] C=2.560186404424365, gamma=0.002051110418843397 .................\n",
      "[CV] .. C=2.560186404424365, gamma=0.002051110418843397, total=   0.1s\n",
      "[CV] C=2.560186404424365, gamma=0.002051110418843397 .................\n",
      "[CV] .. C=2.560186404424365, gamma=0.002051110418843397, total=   0.1s\n",
      "[CV] C=1.5808361216819946, gamma=0.05399484409787431 .................\n",
      "[CV] .. C=1.5808361216819946, gamma=0.05399484409787431, total=   0.1s\n",
      "[CV] C=1.5808361216819946, gamma=0.05399484409787431 .................\n",
      "[CV] .. C=1.5808361216819946, gamma=0.05399484409787431, total=   0.1s\n",
      "[CV] C=1.5808361216819946, gamma=0.05399484409787431 .................\n",
      "[CV] .. C=1.5808361216819946, gamma=0.05399484409787431, total=   0.1s\n",
      "[CV] C=7.011150117432088, gamma=0.026070247583707663 .................\n",
      "[CV] .. C=7.011150117432088, gamma=0.026070247583707663, total=   0.1s\n",
      "[CV] C=7.011150117432088, gamma=0.026070247583707663 .................\n",
      "[CV] .. C=7.011150117432088, gamma=0.026070247583707663, total=   0.1s\n",
      "[CV] C=7.011150117432088, gamma=0.026070247583707663 .................\n",
      "[CV] .. C=7.011150117432088, gamma=0.026070247583707663, total=   0.1s\n",
      "[CV] C=1.2058449429580245, gamma=0.0870602087830485 ..................\n",
      "[CV] ... C=1.2058449429580245, gamma=0.0870602087830485, total=   0.1s\n",
      "[CV] C=1.2058449429580245, gamma=0.0870602087830485 ..................\n",
      "[CV] ... C=1.2058449429580245, gamma=0.0870602087830485, total=   0.1s\n",
      "[CV] C=1.2058449429580245, gamma=0.0870602087830485 ..................\n",
      "[CV] ... C=1.2058449429580245, gamma=0.0870602087830485, total=   0.1s\n",
      "[CV] C=9.324426408004218, gamma=0.0026587543983272693 ................\n",
      "[CV] . C=9.324426408004218, gamma=0.0026587543983272693, total=   0.1s\n",
      "[CV] C=9.324426408004218, gamma=0.0026587543983272693 ................\n",
      "[CV] . C=9.324426408004218, gamma=0.0026587543983272693, total=   0.1s\n",
      "[CV] C=9.324426408004218, gamma=0.0026587543983272693 ................\n",
      "[CV] . C=9.324426408004218, gamma=0.0026587543983272693, total=   0.1s\n",
      "[CV] C=2.818249672071006, gamma=0.0023270677083837795 ................\n",
      "[CV] . C=2.818249672071006, gamma=0.0023270677083837795, total=   0.1s\n",
      "[CV] C=2.818249672071006, gamma=0.0023270677083837795 ................\n",
      "[CV] . C=2.818249672071006, gamma=0.0023270677083837795, total=   0.1s\n",
      "[CV] C=2.818249672071006, gamma=0.0023270677083837795 ................\n",
      "[CV] . C=2.818249672071006, gamma=0.0023270677083837795, total=   0.1s\n",
      "[CV] C=4.042422429595377, gamma=0.011207606211860567 .................\n",
      "[CV] .. C=4.042422429595377, gamma=0.011207606211860567, total=   0.1s\n",
      "[CV] C=4.042422429595377, gamma=0.011207606211860567 .................\n",
      "[CV] .. C=4.042422429595377, gamma=0.011207606211860567, total=   0.1s\n",
      "[CV] C=4.042422429595377, gamma=0.011207606211860567 .................\n",
      "[CV] .. C=4.042422429595377, gamma=0.011207606211860567, total=   0.1s\n",
      "[CV] C=5.319450186421157, gamma=0.003823475224675185 .................\n",
      "[CV] .. C=5.319450186421157, gamma=0.003823475224675185, total=   0.1s\n",
      "[CV] C=5.319450186421157, gamma=0.003823475224675185 .................\n",
      "[CV] .. C=5.319450186421157, gamma=0.003823475224675185, total=   0.1s\n",
      "[CV] C=5.319450186421157, gamma=0.003823475224675185 .................\n",
      "[CV] .. C=5.319450186421157, gamma=0.003823475224675185, total=   0.1s\n"
     ]
    },
    {
     "name": "stderr",
     "output_type": "stream",
     "text": [
      "[Parallel(n_jobs=1)]: Done  30 out of  30 | elapsed:    2.9s finished\n"
     ]
    },
    {
     "data": {
      "text/plain": [
       "RandomizedSearchCV(cv=None, error_score='raise',\n",
       "          estimator=SVR(C=1.0, cache_size=200, coef0=0.0, degree=3, epsilon=0.1, gamma='auto',\n",
       "  kernel='rbf', max_iter=-1, shrinking=True, tol=0.001, verbose=False),\n",
       "          fit_params=None, iid=True, n_iter=10, n_jobs=1,\n",
       "          param_distributions={'gamma': <scipy.stats._distn_infrastructure.rv_frozen object at 0x1a0b461940>, 'C': <scipy.stats._distn_infrastructure.rv_frozen object at 0x104015940>},\n",
       "          pre_dispatch='2*n_jobs', random_state=42, refit=True,\n",
       "          return_train_score='warn', scoring=None, verbose=2)"
      ]
     },
     "execution_count": 118,
     "metadata": {},
     "output_type": "execute_result"
    }
   ],
   "source": [
    "from sklearn.svm import SVR\n",
    "from sklearn.model_selection import RandomizedSearchCV\n",
    "from scipy.stats import reciprocal, uniform\n",
    "\n",
    "param_distributions = {\"gamma\": reciprocal(0.001, 0.1), \"C\": uniform(1, 10)}\n",
    "rnd_search_cv = RandomizedSearchCV(SVR(), param_distributions, n_iter=10, verbose=2, random_state=42)\n",
    "rnd_search_cv.fit(X_train_scaled, y_train)"
   ]
  },
  {
   "cell_type": "code",
   "execution_count": 119,
   "metadata": {},
   "outputs": [
    {
     "data": {
      "text/plain": [
       "SVR(C=1.5808361216819946, cache_size=200, coef0=0.0, degree=3, epsilon=0.1,\n",
       "  gamma=0.05399484409787431, kernel='rbf', max_iter=-1, shrinking=True,\n",
       "  tol=0.001, verbose=False)"
      ]
     },
     "execution_count": 119,
     "metadata": {},
     "output_type": "execute_result"
    }
   ],
   "source": [
    "rnd_search_cv.best_estimator_"
   ]
  },
  {
   "cell_type": "code",
   "execution_count": 120,
   "metadata": {},
   "outputs": [
    {
     "data": {
      "text/plain": [
       "0.2839904982829599"
      ]
     },
     "execution_count": 120,
     "metadata": {},
     "output_type": "execute_result"
    }
   ],
   "source": [
    "y_pred = rnd_search_cv.best_estimator_.predict(X_train_scaled)\n",
    "mse = mean_squared_error(y_train, y_pred)\n",
    "np.sqrt(mse)"
   ]
  },
  {
   "cell_type": "code",
   "execution_count": 121,
   "metadata": {},
   "outputs": [
    {
     "data": {
      "text/plain": [
       "0.46594247621293766"
      ]
     },
     "execution_count": 121,
     "metadata": {},
     "output_type": "execute_result"
    }
   ],
   "source": [
    "y_pred = rnd_search_cv.best_estimator_.predict(X_test_scaled)\n",
    "mse = mean_squared_error(y_test, y_pred)\n",
    "np.sqrt(mse)"
   ]
  },
  {
   "cell_type": "markdown",
   "metadata": {},
   "source": [
    "# Logistic Regression"
   ]
  },
  {
   "cell_type": "code",
   "execution_count": 17,
   "metadata": {},
   "outputs": [
    {
     "data": {
      "text/plain": [
       "LogisticRegression(C=1.0, class_weight=None, dual=False, fit_intercept=True,\n",
       "          intercept_scaling=1, max_iter=100, multi_class='ovr', n_jobs=1,\n",
       "          penalty='l2', random_state=42, solver='liblinear', tol=0.0001,\n",
       "          verbose=0, warm_start=False)"
      ]
     },
     "execution_count": 17,
     "metadata": {},
     "output_type": "execute_result"
    }
   ],
   "source": [
    "from sklearn.linear_model import LogisticRegression\n",
    "log_reg = LogisticRegression(random_state=42)\n",
    "log_reg.fit(X_train, y_train)"
   ]
  },
  {
   "cell_type": "code",
   "execution_count": 18,
   "metadata": {},
   "outputs": [],
   "source": [
    "y_pred = log_reg.predict(X_test)"
   ]
  },
  {
   "cell_type": "code",
   "execution_count": 19,
   "metadata": {},
   "outputs": [
    {
     "name": "stdout",
     "output_type": "stream",
     "text": [
      "0.84\n"
     ]
    }
   ],
   "source": [
    "score = log_reg.score(X_test, y_test)\n",
    "print(score)"
   ]
  },
  {
   "cell_type": "markdown",
   "metadata": {},
   "source": [
    "### Cross validation"
   ]
  },
  {
   "cell_type": "code",
   "execution_count": 20,
   "metadata": {},
   "outputs": [
    {
     "name": "stdout",
     "output_type": "stream",
     "text": [
      "10-fold cross validation average accuracy: 0.748\n"
     ]
    }
   ],
   "source": [
    "from sklearn import model_selection\n",
    "from sklearn.model_selection import cross_val_score\n",
    "kfold = model_selection.KFold(n_splits=10, random_state=7)\n",
    "modelCV = LogisticRegression()\n",
    "scoring = 'accuracy'\n",
    "results = model_selection.cross_val_score(modelCV, X_train, y_train, cv=kfold, scoring=scoring)\n",
    "print(\"10-fold cross validation average accuracy: %.3f\" % (results.mean()))"
   ]
  },
  {
   "cell_type": "code",
   "execution_count": 21,
   "metadata": {},
   "outputs": [],
   "source": [
    "import matplotlib.pyplot as plt\n",
    "import seaborn as sns\n",
    "from sklearn import metrics"
   ]
  },
  {
   "cell_type": "code",
   "execution_count": 22,
   "metadata": {},
   "outputs": [
    {
     "name": "stdout",
     "output_type": "stream",
     "text": [
      "[[10  3]\n",
      " [ 1 11]]\n"
     ]
    }
   ],
   "source": [
    "cm = metrics.confusion_matrix(y_test, y_pred)\n",
    "print(cm)"
   ]
  },
  {
   "cell_type": "code",
   "execution_count": 23,
   "metadata": {},
   "outputs": [
    {
     "name": "stdout",
     "output_type": "stream",
     "text": [
      "             precision    recall  f1-score   support\n",
      "\n",
      "          0       0.91      0.77      0.83        13\n",
      "          1       0.79      0.92      0.85        12\n",
      "\n",
      "avg / total       0.85      0.84      0.84        25\n",
      "\n"
     ]
    }
   ],
   "source": [
    "from sklearn.metrics import classification_report\n",
    "print(classification_report(y_test, y_pred))"
   ]
  },
  {
   "cell_type": "code",
   "execution_count": 24,
   "metadata": {},
   "outputs": [
    {
     "data": {
      "image/png": "[encoded data removed]",
      "text/plain": [
       "<matplotlib.figure.Figure at 0x10aa3e2e8>"
      ]
     },
     "metadata": {},
     "output_type": "display_data"
    }
   ],
   "source": [
    "plt.figure(figsize=(9,9))\n",
    "sns.heatmap(cm, annot=True, fmt=\".3f\", linewidths=.5, square = True, cmap = 'Blues_r');\n",
    "plt.ylabel('Actual label');\n",
    "plt.xlabel('Predicted label');\n",
    "all_sample_title = 'Accuracy Score: {0}'.format(score)\n",
    "plt.title(all_sample_title, size = 15);"
   ]
  },
  {
   "cell_type": "code",
   "execution_count": 25,
   "metadata": {},
   "outputs": [
    {
     "data": {
      "image/png": "[encoded data removed]",
      "text/plain": [
       "<matplotlib.figure.Figure at 0x10a9ec0b8>"
      ]
     },
     "metadata": {},
     "output_type": "display_data"
    }
   ],
   "source": [
    "plt.figure(figsize=(9,9))\n",
    "plt.imshow(cm, interpolation='nearest', cmap='Pastel1')\n",
    "plt.title('Confusion matrix', size = 25)\n",
    "plt.colorbar()\n",
    "tick_marks = np.arange(2)\n",
    "plt.xticks(tick_marks, [\"0\", \"1\"], rotation=45, size = 25)\n",
    "plt.yticks(tick_marks, [\"0\", \"1\"], size = 25)\n",
    "plt.tight_layout()\n",
    "plt.ylabel('Actual label', size = 25)\n",
    "plt.xlabel('Predicted label', size = 25)\n",
    "width, height = cm.shape"
   ]
  },
  {
   "cell_type": "markdown",
   "metadata": {},
   "source": [
    "### ROC Curve"
   ]
  },
  {
   "cell_type": "code",
   "execution_count": 54,
   "metadata": {},
   "outputs": [
    {
     "data": {
      "image/png": "[encoded data removed]",
      "text/plain": [
       "<matplotlib.figure.Figure at 0x1c22b6b3c8>"
      ]
     },
     "metadata": {},
     "output_type": "display_data"
    }
   ],
   "source": [
    "from sklearn.metrics import roc_auc_score\n",
    "from sklearn.metrics import roc_curve\n",
    "logit_roc_auc = roc_auc_score(y_train, log_reg.predict(X_train))\n",
    "fpr, tpr, thresholds = roc_curve(y_train, log_reg.predict_proba(X_train)[:,1])\n",
    "plt.figure()\n",
    "plt.plot(fpr, tpr, label='Logistic Regression (area = %0.2f)' % logit_roc_auc)\n",
    "plt.plot([0, 1], [0, 1],'r--')\n",
    "plt.xlim([-0.1, 1.0])\n",
    "plt.ylim([0.0, 1.05])\n",
    "plt.xlabel('False Positive Rate')\n",
    "plt.ylabel('True Positive Rate')\n",
    "plt.title('Receiver operating characteristic')\n",
    "plt.legend(loc=\"lower right\")\n",
    "plt.savefig('Log_ROC')\n",
    "plt.show()"
   ]
  },
  {
   "cell_type": "code",
   "execution_count": 51,
   "metadata": {},
   "outputs": [],
   "source": [
    "a=list(df)\n",
    "feature_names = a[41:82]\n",
    "X=pd.DataFrame(X_all)\n",
    "X.columns=feature_names"
   ]
  },
  {
   "cell_type": "code",
   "execution_count": 52,
   "metadata": {},
   "outputs": [
    {
     "name": "stdout",
     "output_type": "stream",
     "text": [
      "Optimization terminated successfully.\n",
      "         Current function value: 0.414057\n",
      "         Iterations 12\n",
      "                             Results: Logit\n",
      "=========================================================================\n",
      "Model:                 Logit               No. Iterations:      12.0000  \n",
      "Dependent Variable:    y                   Pseudo R-squared:    0.384    \n",
      "Date:                  2018-04-15 22:12    AIC:                 1210.7181\n",
      "No. Observations:      1363                BIC:                 1424.6332\n",
      "Df Model:              40                  Log-Likelihood:      -564.36  \n",
      "Df Residuals:          1322                LL-Null:             -916.00  \n",
      "Converged:             1.0000              Scale:               1.0000   \n",
      "-------------------------------------------------------------------------\n",
      "                       Coef.   Std.Err.    z     P>|z|   [0.025   0.975] \n",
      "-------------------------------------------------------------------------\n",
      "InvTurnover            -0.0024   0.0315  -0.0756 0.9397  -0.0641   0.0593\n",
      "ReceivTurnover          0.0275   0.0293   0.9391 0.3477  -0.0299   0.0849\n",
      "WCTurnover             -0.0022   0.0014  -1.5617 0.1184  -0.0050   0.0006\n",
      "TATurnover             -0.1283   0.1460  -0.8791 0.3794  -0.4144   0.1578\n",
      "CurrentRatio           -0.0025   0.1041  -0.0235 0.9812  -0.2065   0.2016\n",
      "CashRatio               0.1355   0.1894   0.7154 0.4744  -0.2357   0.5066\n",
      "DebtToAsset             1.7361   0.4681   3.7087 0.0002   0.8186   2.6536\n",
      "FinLvgRatio            -0.0273   0.0232  -1.1765 0.2394  -0.0727   0.0181\n",
      "InterestCoverage        0.0006   0.0009   0.6584 0.5103  -0.0012   0.0024\n",
      "NetDebtTOEBITDA        -0.1282   0.0738  -1.7379 0.0822  -0.2728   0.0164\n",
      "GrossProfit            -0.9630   0.5940  -1.6212 0.1050  -2.1272   0.2012\n",
      "Profitability           3.2808   1.6386   2.0022 0.0453   0.0692   6.4923\n",
      "ROA                    -4.5995   3.1425  -1.4637 0.1433 -10.7587   1.5596\n",
      "ROE                     0.5235   0.3169   1.6519 0.0986  -0.0976   1.1447\n",
      "PE                      0.0016   0.0021   0.7894 0.4299  -0.0024   0.0057\n",
      "BM                     -2.6254   0.3480  -7.5448 0.0000  -3.3075  -1.9434\n",
      "EVtoEBITDA              0.0028   0.0142   0.1956 0.8449  -0.0251   0.0306\n",
      "DivYield               -0.0236   4.0069  -0.0059 0.9953  -7.8770   7.8298\n",
      "PricetoCF               0.0001   0.0002   0.7008 0.4834  -0.0003   0.0005\n",
      "OCFtoRev               -1.2926   1.0837  -1.1928 0.2330  -3.4167   0.8314\n",
      "gTA                     9.6980   1.1929   8.1297 0.0000   7.3599  12.0361\n",
      "gREV                   -3.1052   1.1100  -2.7974 0.0052  -5.2808  -0.9296\n",
      "deltaEPS               -0.0015   0.0873  -0.0176 0.9859  -0.1726   0.1695\n",
      "deltaInvTurnover        0.0009   0.0038   0.2367 0.8129  -0.0065   0.0083\n",
      "deltaReceivTurnover     0.0091   0.0022   4.2330 0.0000   0.0049   0.0134\n",
      "deltaWCTurnover         0.0004   0.0009   0.4615 0.6444  -0.0013   0.0021\n",
      "deltaTATurnover         0.9341   0.7941   1.1762 0.2395  -0.6224   2.4905\n",
      "deltaCurrentRatio      -0.2624   0.2262  -1.1599 0.2461  -0.7057   0.1810\n",
      "deltaCashRatio          0.2743   0.3407   0.8051 0.4208  -0.3935   0.9421\n",
      "deltaDebtToAsset       -9.9919   1.6134  -6.1929 0.0000 -13.1542  -6.8296\n",
      "deltaFinLvgRatio        0.0166   0.0196   0.8475 0.3967  -0.0218   0.0551\n",
      "deltaInterestCoverage  -0.0000   0.0003  -0.0056 0.9955  -0.0006   0.0006\n",
      "deltaNetDebtTOEBITDA   -0.0994   0.1351  -0.7356 0.4620  -0.3643   0.1655\n",
      "deltaGrossProfit        8.5977   2.6206   3.2809 0.0010   3.4615  13.7340\n",
      "deltaProfitability     -3.6902   2.3044  -1.6014 0.1093  -8.2067   0.8262\n",
      "deltaROA               18.4525   5.5504   3.3245 0.0009   7.5739  29.3310\n",
      "deltaROE               -0.3322   0.2524  -1.3161 0.1882  -0.8268   0.1625\n",
      "deltaPE                 0.0012   0.0007   1.6814 0.0927  -0.0002   0.0025\n",
      "deltaBM               -21.9721   1.4702 -14.9447 0.0000 -24.8537 -19.0905\n",
      "deltaEVtoEBITDA         0.0284   0.0178   1.5995 0.1097  -0.0064   0.0633\n",
      "deltaDivYield         -13.2603   3.9751  -3.3359 0.0009 -21.0513  -5.4694\n",
      "=========================================================================\n",
      "\n"
     ]
    }
   ],
   "source": [
    "import statsmodels.api as sm\n",
    "\n",
    "logit_model=sm.Logit(y_all,X)\n",
    "result=logit_model.fit()\n",
    "print(result.summary2())"
   ]
  },
  {
   "cell_type": "markdown",
   "metadata": {},
   "source": [
    "# Dimensionality Reduction( PCA)"
   ]
  },
  {
   "cell_type": "code",
   "execution_count": 112,
   "metadata": {},
   "outputs": [],
   "source": [
    "from sklearn.ensemble import RandomForestClassifier\n",
    "\n",
    "rnd_clf = RandomForestClassifier(random_state=42)"
   ]
  },
  {
   "cell_type": "code",
   "execution_count": 113,
   "metadata": {},
   "outputs": [],
   "source": [
    "import time\n",
    "\n",
    "t0 = time.time()\n",
    "rnd_clf.fit(X_train, y_train)\n",
    "t1 = time.time()"
   ]
  },
  {
   "cell_type": "code",
   "execution_count": 114,
   "metadata": {},
   "outputs": [
    {
     "name": "stdout",
     "output_type": "stream",
     "text": [
      "Training took 0.06s\n"
     ]
    }
   ],
   "source": [
    "print(\"Training took {:.2f}s\".format(t1 - t0))"
   ]
  },
  {
   "cell_type": "code",
   "execution_count": 115,
   "metadata": {},
   "outputs": [
    {
     "data": {
      "text/plain": [
       "0.88"
      ]
     },
     "execution_count": 115,
     "metadata": {},
     "output_type": "execute_result"
    }
   ],
   "source": [
    "from sklearn.metrics import accuracy_score\n",
    "\n",
    "y_pred = rnd_clf.predict(X_test)\n",
    "accuracy_score(y_test, y_pred)"
   ]
  },
  {
   "cell_type": "code",
   "execution_count": 116,
   "metadata": {},
   "outputs": [],
   "source": [
    "from sklearn.decomposition import PCA\n",
    "\n",
    "pca = PCA(n_components=0.95)\n",
    "X_train_reduced = pca.fit_transform(X_train)"
   ]
  },
  {
   "cell_type": "code",
   "execution_count": 117,
   "metadata": {},
   "outputs": [],
   "source": [
    "rnd_clf2 = RandomForestClassifier(random_state=42)\n",
    "t0 = time.time()\n",
    "rnd_clf2.fit(X_train_reduced, y_train)\n",
    "t1 = time.time()"
   ]
  },
  {
   "cell_type": "code",
   "execution_count": 118,
   "metadata": {},
   "outputs": [
    {
     "name": "stdout",
     "output_type": "stream",
     "text": [
      "Training took 0.03s\n"
     ]
    }
   ],
   "source": [
    "print(\"Training took {:.2f}s\".format(t1 - t0))\n"
   ]
  },
  {
   "cell_type": "code",
   "execution_count": 119,
   "metadata": {},
   "outputs": [
    {
     "data": {
      "text/plain": [
       "0.44"
      ]
     },
     "execution_count": 119,
     "metadata": {},
     "output_type": "execute_result"
    }
   ],
   "source": [
    "X_test_reduced = pca.transform(X_test)\n",
    "\n",
    "y_pred = rnd_clf2.predict(X_test_reduced)\n",
    "accuracy_score(y_test, y_pred)"
   ]
  },
  {
   "cell_type": "code",
   "execution_count": 120,
   "metadata": {},
   "outputs": [],
   "source": [
    "from sklearn.linear_model import LogisticRegression\n",
    "\n",
    "log_clf = LogisticRegression(multi_class=\"multinomial\", solver=\"lbfgs\", random_state=42)\n",
    "t0 = time.time()\n",
    "log_clf.fit(X_train, y_train)\n",
    "t1 = time.time()"
   ]
  },
  {
   "cell_type": "code",
   "execution_count": 121,
   "metadata": {},
   "outputs": [
    {
     "name": "stdout",
     "output_type": "stream",
     "text": [
      "Training took 0.09s\n"
     ]
    }
   ],
   "source": [
    "print(\"Training took {:.2f}s\".format(t1 - t0))\n"
   ]
  },
  {
   "cell_type": "code",
   "execution_count": 122,
   "metadata": {},
   "outputs": [
    {
     "data": {
      "text/plain": [
       "0.6"
      ]
     },
     "execution_count": 122,
     "metadata": {},
     "output_type": "execute_result"
    }
   ],
   "source": [
    "y_pred = log_clf.predict(X_test)\n",
    "accuracy_score(y_test, y_pred)"
   ]
  },
  {
   "cell_type": "code",
   "execution_count": 123,
   "metadata": {},
   "outputs": [],
   "source": [
    "log_clf2 = LogisticRegression(multi_class=\"multinomial\", solver=\"lbfgs\", random_state=42)\n",
    "t0 = time.time()\n",
    "log_clf2.fit(X_train_reduced, y_train)\n",
    "t1 = time.time()"
   ]
  },
  {
   "cell_type": "code",
   "execution_count": 124,
   "metadata": {},
   "outputs": [
    {
     "name": "stdout",
     "output_type": "stream",
     "text": [
      "Training took 0.02s\n"
     ]
    }
   ],
   "source": [
    "print(\"Training took {:.2f}s\".format(t1 - t0))"
   ]
  },
  {
   "cell_type": "code",
   "execution_count": 125,
   "metadata": {},
   "outputs": [
    {
     "data": {
      "text/plain": [
       "0.48"
      ]
     },
     "execution_count": 125,
     "metadata": {},
     "output_type": "execute_result"
    }
   ],
   "source": [
    "y_pred = log_clf2.predict(X_test_reduced)\n",
    "accuracy_score(y_test, y_pred)"
   ]
  },
  {
   "cell_type": "markdown",
   "metadata": {},
   "source": [
    "### Dimensionality Reduction( LLE)"
   ]
  },
  {
   "cell_type": "code",
   "execution_count": 126,
   "metadata": {},
   "outputs": [
    {
     "name": "stdout",
     "output_type": "stream",
     "text": [
      "LLE took 0.4s.\n"
     ]
    }
   ],
   "source": [
    "from sklearn.manifold import LocallyLinearEmbedding\n",
    "\n",
    "t0 = time.time()\n",
    "X_lle_reduced = LocallyLinearEmbedding(n_components=2, random_state=42).fit_transform(X_train)\n",
    "t1 = time.time()\n",
    "print(\"LLE took {:.1f}s.\".format(t1 - t0))\n",
    "#plot_(X_lle_reduced, y_train)\n",
    "#plt.show()"
   ]
  },
  {
   "cell_type": "code",
   "execution_count": 127,
   "metadata": {},
   "outputs": [
    {
     "data": {
      "text/plain": [
       "0.88"
      ]
     },
     "execution_count": 127,
     "metadata": {},
     "output_type": "execute_result"
    }
   ],
   "source": [
    "from sklearn.metrics import accuracy_score\n",
    "\n",
    "y_pred = rnd_clf.predict(X_test)\n",
    "accuracy_score(y_test, y_pred)"
   ]
  },
  {
   "cell_type": "markdown",
   "metadata": {},
   "source": [
    "# Voting Classifier"
   ]
  },
  {
   "cell_type": "code",
   "execution_count": 145,
   "metadata": {},
   "outputs": [
    {
     "data": {
      "text/plain": [
       "VotingClassifier(estimators=[('knn', KNeighborsClassifier(algorithm='auto', leaf_size=30, metric='minkowski',\n",
       "           metric_params=None, n_jobs=1, n_neighbors=21, p=2,\n",
       "           weights='uniform')), ('lr', LogisticRegression(C=1.0, class_weight=None, dual=False, fit_intercept=True,\n",
       "          intercept_scaling=1...f',\n",
       "  max_iter=-1, probability=False, random_state=42, shrinking=True,\n",
       "  tol=0.001, verbose=False))],\n",
       "         flatten_transform=None, n_jobs=1, voting='hard', weights=None)"
      ]
     },
     "execution_count": 145,
     "metadata": {},
     "output_type": "execute_result"
    }
   ],
   "source": [
    "from sklearn.ensemble import RandomForestClassifier\n",
    "from sklearn.ensemble import VotingClassifier\n",
    "from sklearn.linear_model import LogisticRegression\n",
    "from sklearn.svm import SVC\n",
    "knn_clf = KNeighborsClassifier(n_neighbors=21)\n",
    "log_clf = LogisticRegression(random_state=42)\n",
    "rnd_clf = RandomForestClassifier(random_state=42)\n",
    "svm_clf = SVC(random_state=42)\n",
    "\n",
    "voting_clf = VotingClassifier(\n",
    "    estimators=[('knn',knn_clf),('lr', log_clf), ('rf', rnd_clf), ('svc', svm_clf)],\n",
    "    voting='hard')\n",
    "voting_clf.fit(X_train, y_train)"
   ]
  },
  {
   "cell_type": "code",
   "execution_count": 146,
   "metadata": {},
   "outputs": [
    {
     "name": "stdout",
     "output_type": "stream",
     "text": [
      "KNeighborsClassifier 0.68\n",
      "LogisticRegression 0.84\n",
      "RandomForestClassifier 0.88\n",
      "SVC 0.52\n",
      "VotingClassifier 0.92\n"
     ]
    },
    {
     "name": "stderr",
     "output_type": "stream",
     "text": [
      "/Users/Indu/anaconda3/lib/python3.6/site-packages/sklearn/preprocessing/label.py:151: DeprecationWarning: The truth value of an empty array is ambiguous. Returning False, but in future this will result in an error. Use `array.size > 0` to check that an array is not empty.\n",
      "  if diff:\n"
     ]
    }
   ],
   "source": [
    "from sklearn.metrics import accuracy_score\n",
    "\n",
    "for clf in (knn_clf,log_clf, rnd_clf, svm_clf, voting_clf):\n",
    "    clf.fit(X_train, y_train)\n",
    "    y_pred = clf.predict(X_test)\n",
    "    print(clf.__class__.__name__, accuracy_score(y_test, y_pred))"
   ]
  },
  {
   "cell_type": "code",
   "execution_count": 147,
   "metadata": {},
   "outputs": [
    {
     "data": {
      "text/plain": [
       "VotingClassifier(estimators=[('knn', KNeighborsClassifier(algorithm='auto', leaf_size=30, metric='minkowski',\n",
       "           metric_params=None, n_jobs=1, n_neighbors=21, p=2,\n",
       "           weights='uniform')), ('lr', LogisticRegression(C=1.0, class_weight=None, dual=False, fit_intercept=True,\n",
       "          intercept_scaling=1...bf',\n",
       "  max_iter=-1, probability=True, random_state=42, shrinking=True,\n",
       "  tol=0.001, verbose=False))],\n",
       "         flatten_transform=None, n_jobs=1, voting='soft', weights=None)"
      ]
     },
     "execution_count": 147,
     "metadata": {},
     "output_type": "execute_result"
    }
   ],
   "source": [
    "knn_clf = KNeighborsClassifier(n_neighbors=21)\n",
    "log_clf = LogisticRegression(random_state=42)\n",
    "rnd_clf = RandomForestClassifier(random_state=42)\n",
    "svm_clf = SVC(probability=True, random_state=42)\n",
    "\n",
    "voting_clf = VotingClassifier(\n",
    "    estimators=[('knn',knn_clf),('lr', log_clf), ('rf', rnd_clf), ('svc', svm_clf)],\n",
    "    voting='soft')\n",
    "voting_clf.fit(X_train, y_train)"
   ]
  },
  {
   "cell_type": "code",
   "execution_count": 148,
   "metadata": {},
   "outputs": [
    {
     "name": "stdout",
     "output_type": "stream",
     "text": [
      "KNeighborsClassifier 0.68\n",
      "LogisticRegression 0.84\n",
      "RandomForestClassifier 0.88\n",
      "SVC 0.52\n",
      "VotingClassifier 0.92\n"
     ]
    },
    {
     "name": "stderr",
     "output_type": "stream",
     "text": [
      "/Users/Indu/anaconda3/lib/python3.6/site-packages/sklearn/preprocessing/label.py:151: DeprecationWarning: The truth value of an empty array is ambiguous. Returning False, but in future this will result in an error. Use `array.size > 0` to check that an array is not empty.\n",
      "  if diff:\n"
     ]
    }
   ],
   "source": [
    "from sklearn.metrics import accuracy_score\n",
    "\n",
    "for clf in (knn_clf,log_clf, rnd_clf, svm_clf, voting_clf):\n",
    "    clf.fit(X_train, y_train)\n",
    "    y_pred = clf.predict(X_test)\n",
    "    print(clf.__class__.__name__, accuracy_score(y_test, y_pred))"
   ]
  },
  {
   "cell_type": "markdown",
   "metadata": {},
   "source": [
    "# Artificial Neural Nework(NNets)"
   ]
  },
  {
   "cell_type": "code",
   "execution_count": 150,
   "metadata": {},
   "outputs": [],
   "source": [
    "import matplotlib.pyplot as plt\n",
    "from sklearn.datasets import fetch_mldata\n",
    "from sklearn.neural_network import MLPClassifier\n",
    "\n",
    "import numpy as np\n",
    "import pandas as pd\n",
    "\n"
   ]
  },
  {
   "cell_type": "code",
   "execution_count": 151,
   "metadata": {},
   "outputs": [],
   "source": [
    "X_labeled = X_all[25:,:]  # make the 10 into 0 to keep all of the data\n",
    "y_labeled = y_all[25:]    # same for this line\n",
    "X_test =  X_all[0:25,:]\n",
    "y_test = y_all[0:25]\n",
    "#\n",
    "# we can scramble the data - but only the labeled data!\n",
    "# \n",
    "indices = np.random.permutation(len(X_labeled))  # this scrambles the data each time\n",
    "X_data_full = X_labeled[indices]\n",
    "y_data_full = y_labeled[indices]\n",
    "\n",
    "X_known = X_data_full\n",
    "y_known = y_data_full\n",
    "X_unknown = X_test\n",
    "y_unknown = y_test"
   ]
  },
  {
   "cell_type": "code",
   "execution_count": 152,
   "metadata": {},
   "outputs": [],
   "source": [
    "KNOWN_SIZE = len(y_known)\n",
    "indices = np.random.permutation(KNOWN_SIZE)  # this scrambles the data each time\n",
    "X_known = X_known[indices]\n",
    "y_known = y_known[indices]"
   ]
  },
  {
   "cell_type": "code",
   "execution_count": 153,
   "metadata": {},
   "outputs": [],
   "source": [
    "TRAIN_FRACTION = 0.85\n",
    "TRAIN_SIZE = int(TRAIN_FRACTION*KNOWN_SIZE)\n",
    "TEST_SIZE = KNOWN_SIZE - TRAIN_SIZE   # not really needed, but...\n",
    "X_train = X_known[:TRAIN_SIZE]\n",
    "y_train = y_known[:TRAIN_SIZE]\n",
    "\n",
    "X_test = X_known[TRAIN_SIZE:]\n",
    "y_test = y_known[TRAIN_SIZE:]"
   ]
  },
  {
   "cell_type": "code",
   "execution_count": 154,
   "metadata": {},
   "outputs": [],
   "source": [
    "USE_SCALER = True\n",
    "if USE_SCALER == True:\n",
    "    from sklearn.preprocessing import StandardScaler\n",
    "    scaler = StandardScaler()\n",
    "    scaler.fit(X_train)   # Fit only to the training dataframe\n",
    "    # now, rescale inputs -- both testing and training\n",
    "    X_train = scaler.transform(X_train)\n",
    "    X_test = scaler.transform(X_test)\n",
    "    X_unknown1 = scaler.transform(X_unknown)\n",
    "   \n",
    "\n"
   ]
  },
  {
   "cell_type": "code",
   "execution_count": 159,
   "metadata": {},
   "outputs": [
    {
     "name": "stdout",
     "output_type": "stream",
     "text": [
      "\n",
      "\n",
      "++++++++++  TRAINING  +++++++++++++++\n",
      "\n",
      "\n",
      "Iteration 1, loss = 0.67698923\n",
      "Iteration 2, loss = 0.66795882\n",
      "Iteration 3, loss = 0.66426814\n",
      "Iteration 4, loss = 0.65956848\n",
      "Iteration 5, loss = 0.65427512\n",
      "Iteration 6, loss = 0.65031169\n",
      "Iteration 7, loss = 0.64539500\n",
      "Iteration 8, loss = 0.63896111\n",
      "Iteration 9, loss = 0.63246587\n",
      "Iteration 10, loss = 0.62606738\n",
      "Iteration 11, loss = 0.61807230\n",
      "Iteration 12, loss = 0.61317661\n",
      "Iteration 13, loss = 0.60867085\n",
      "Iteration 14, loss = 0.59579761\n",
      "Iteration 15, loss = 0.59052048\n",
      "Iteration 16, loss = 0.57095390\n",
      "Iteration 17, loss = 0.56009448\n",
      "Iteration 18, loss = 0.54815868\n",
      "Iteration 19, loss = 0.53933610\n",
      "Iteration 20, loss = 0.56118111\n",
      "Iteration 21, loss = 0.51037383\n",
      "Iteration 22, loss = 0.49566434\n",
      "Iteration 23, loss = 0.51932740\n",
      "Iteration 24, loss = 0.48665339\n",
      "Iteration 25, loss = 0.46248778\n",
      "Iteration 26, loss = 0.57788561\n",
      "Iteration 27, loss = 0.46599077\n",
      "Iteration 28, loss = 0.44050322\n",
      "Iteration 29, loss = 0.45336162\n",
      "Iteration 30, loss = 0.49397584\n",
      "Iteration 31, loss = 0.43435318\n",
      "Iteration 32, loss = 0.39282016\n",
      "Iteration 33, loss = 0.44430712\n",
      "Iteration 34, loss = 0.38289670\n",
      "Iteration 35, loss = 0.40174183\n",
      "Iteration 36, loss = 0.43512145\n",
      "Iteration 37, loss = 0.37767978\n",
      "Iteration 38, loss = 0.37812438\n",
      "Iteration 39, loss = 0.40981669\n",
      "Iteration 40, loss = 0.37709250\n",
      "Iteration 41, loss = 0.34865309\n",
      "Iteration 42, loss = 0.34899372\n",
      "Iteration 43, loss = 0.36972873\n",
      "Iteration 44, loss = 0.40631231\n",
      "Training loss did not improve more than tol=0.000100 for two consecutive epochs. Setting learning rate to 0.020000\n",
      "Iteration 45, loss = 0.40772442\n",
      "Iteration 46, loss = 0.37512709\n",
      "Iteration 47, loss = 0.33863086\n",
      "Iteration 48, loss = 0.32275970\n",
      "Iteration 49, loss = 0.31179630\n",
      "Iteration 50, loss = 0.29419272\n",
      "Iteration 51, loss = 0.28513089\n",
      "Iteration 52, loss = 0.27916425\n",
      "Iteration 53, loss = 0.27687802\n",
      "Iteration 54, loss = 0.27249165\n",
      "Iteration 55, loss = 0.26671964\n",
      "Iteration 56, loss = 0.26672000\n",
      "Iteration 57, loss = 0.26332790\n",
      "Iteration 58, loss = 0.25974527\n",
      "Iteration 59, loss = 0.26037328\n",
      "Iteration 60, loss = 0.25752024\n",
      "Iteration 61, loss = 0.25291679\n",
      "Iteration 62, loss = 0.25000525\n",
      "Iteration 63, loss = 0.24709630\n",
      "Iteration 64, loss = 0.24721182\n",
      "Iteration 65, loss = 0.24507152\n",
      "Iteration 66, loss = 0.24466439\n",
      "Iteration 67, loss = 0.24321874\n",
      "Iteration 68, loss = 0.24253636\n",
      "Iteration 69, loss = 0.24089012\n",
      "Iteration 70, loss = 0.24069799\n",
      "Iteration 71, loss = 0.23566778\n",
      "Iteration 72, loss = 0.23721235\n",
      "Iteration 73, loss = 0.23329318\n",
      "Iteration 74, loss = 0.23179036\n",
      "Iteration 75, loss = 0.23117732\n",
      "Iteration 76, loss = 0.22974809\n",
      "Iteration 77, loss = 0.23457742\n",
      "Iteration 78, loss = 0.22408821\n",
      "Iteration 79, loss = 0.22526922\n",
      "Iteration 80, loss = 0.22437441\n",
      "Iteration 81, loss = 0.22318151\n",
      "Iteration 82, loss = 0.21933661\n",
      "Iteration 83, loss = 0.21382043\n",
      "Iteration 84, loss = 0.21733285\n",
      "Iteration 85, loss = 0.20981569\n",
      "Iteration 86, loss = 0.21215199\n",
      "Iteration 87, loss = 0.20620564\n",
      "Iteration 88, loss = 0.20608370\n",
      "Iteration 89, loss = 0.20835078\n",
      "Iteration 90, loss = 0.20422291\n",
      "Iteration 91, loss = 0.20257739\n",
      "Iteration 92, loss = 0.20230687\n",
      "Iteration 93, loss = 0.21592498\n",
      "Iteration 94, loss = 0.21871891\n",
      "Iteration 95, loss = 0.20341321\n",
      "Training loss did not improve more than tol=0.000100 for two consecutive epochs. Setting learning rate to 0.004000\n",
      "Iteration 96, loss = 0.23054255\n",
      "Iteration 97, loss = 0.20821103\n",
      "Iteration 98, loss = 0.19825077\n",
      "Iteration 99, loss = 0.19244214\n",
      "Iteration 100, loss = 0.19023905\n",
      "Iteration 101, loss = 0.18831223\n",
      "Iteration 102, loss = 0.18729852\n",
      "Iteration 103, loss = 0.18658158\n",
      "Iteration 104, loss = 0.18602238\n",
      "Iteration 105, loss = 0.18536648\n",
      "Iteration 106, loss = 0.18502294\n",
      "Iteration 107, loss = 0.18465754\n",
      "Iteration 108, loss = 0.18543715\n",
      "Iteration 109, loss = 0.18454762\n",
      "Iteration 110, loss = 0.18438919\n",
      "Iteration 111, loss = 0.18379592\n",
      "Iteration 112, loss = 0.18361302\n",
      "Iteration 113, loss = 0.18370688\n",
      "Iteration 114, loss = 0.18333848\n",
      "Iteration 115, loss = 0.18219414\n",
      "Iteration 116, loss = 0.18217950\n",
      "Iteration 117, loss = 0.18180801\n",
      "Iteration 118, loss = 0.18155103\n",
      "Iteration 119, loss = 0.18111974\n",
      "Iteration 120, loss = 0.18121927\n",
      "Iteration 121, loss = 0.18049812\n",
      "Iteration 122, loss = 0.18074364\n",
      "Iteration 123, loss = 0.18185972\n",
      "Iteration 124, loss = 0.17996763\n",
      "Iteration 125, loss = 0.18036915\n",
      "Iteration 126, loss = 0.17944202\n",
      "Iteration 127, loss = 0.17919553\n",
      "Iteration 128, loss = 0.17920497\n",
      "Iteration 129, loss = 0.17834856\n",
      "Iteration 130, loss = 0.17882617\n",
      "Iteration 131, loss = 0.17817967\n",
      "Iteration 132, loss = 0.17810206\n",
      "Iteration 133, loss = 0.17767986\n",
      "Iteration 134, loss = 0.17778096\n",
      "Iteration 135, loss = 0.17742094\n",
      "Iteration 136, loss = 0.17728995\n",
      "Iteration 137, loss = 0.17658962\n",
      "Iteration 138, loss = 0.17660410\n",
      "Iteration 139, loss = 0.17701633\n",
      "Iteration 140, loss = 0.17601407\n",
      "Iteration 141, loss = 0.17590809\n",
      "Iteration 142, loss = 0.17544008\n",
      "Iteration 143, loss = 0.17592810\n",
      "Iteration 144, loss = 0.17479938\n",
      "Iteration 145, loss = 0.17426109\n",
      "Iteration 146, loss = 0.17434682\n",
      "Iteration 147, loss = 0.17377950\n",
      "Iteration 148, loss = 0.17440235\n",
      "Iteration 149, loss = 0.17377847\n",
      "Iteration 150, loss = 0.17308182\n",
      "Iteration 151, loss = 0.17256350\n",
      "Iteration 152, loss = 0.17352375\n",
      "Iteration 153, loss = 0.17273295\n",
      "Iteration 154, loss = 0.17282882\n",
      "Training loss did not improve more than tol=0.000100 for two consecutive epochs. Setting learning rate to 0.000800\n",
      "Iteration 155, loss = 0.17195069\n",
      "Iteration 156, loss = 0.17294083\n",
      "Iteration 157, loss = 0.17046171\n",
      "Iteration 158, loss = 0.17041876\n",
      "Iteration 159, loss = 0.17034144\n",
      "Iteration 160, loss = 0.16976126\n",
      "Iteration 161, loss = 0.16971155\n",
      "Iteration 162, loss = 0.16948703\n",
      "Iteration 163, loss = 0.16931705\n",
      "Iteration 164, loss = 0.16934615\n",
      "Iteration 165, loss = 0.16927687\n",
      "Iteration 166, loss = 0.16916690\n",
      "Iteration 167, loss = 0.16914897\n",
      "Iteration 168, loss = 0.16914191\n",
      "Iteration 169, loss = 0.16907445\n",
      "Training loss did not improve more than tol=0.000100 for two consecutive epochs. Setting learning rate to 0.000160\n",
      "Iteration 170, loss = 0.16878208\n",
      "Iteration 171, loss = 0.16862828\n",
      "Iteration 172, loss = 0.16861728\n",
      "Iteration 173, loss = 0.16862273\n",
      "Iteration 174, loss = 0.16858270\n",
      "Training loss did not improve more than tol=0.000100 for two consecutive epochs. Setting learning rate to 0.000032\n",
      "Iteration 175, loss = 0.16852728\n",
      "Iteration 176, loss = 0.16851383\n",
      "Iteration 177, loss = 0.16850960\n",
      "Training loss did not improve more than tol=0.000100 for two consecutive epochs. Setting learning rate to 0.000006\n",
      "Iteration 178, loss = 0.16849655\n",
      "Iteration 179, loss = 0.16849094\n",
      "Iteration 180, loss = 0.16848862\n",
      "Training loss did not improve more than tol=0.000100 for two consecutive epochs. Setting learning rate to 0.000001\n",
      "Iteration 181, loss = 0.16848512\n",
      "Iteration 182, loss = 0.16848486\n",
      "Iteration 183, loss = 0.16848394\n",
      "Training loss did not improve more than tol=0.000100 for two consecutive epochs. Setting learning rate to 0.000000\n",
      "Iteration 184, loss = 0.16848328\n",
      "Iteration 185, loss = 0.16848298\n",
      "Iteration 186, loss = 0.16848289\n",
      "Training loss did not improve more than tol=0.000100 for two consecutive epochs. Learning rate too small. Stopping.\n",
      "\n",
      "\n",
      "++++++++++++  TESTING  +++++++++++++\n",
      "\n",
      "\n",
      "Training set score: 0.952507\n",
      "Test set score: 0.726368\n",
      "\n",
      "Confusion matrix:\n",
      "[[55 29]\n",
      " [26 91]]\n",
      "\n",
      "Classification report\n",
      "             precision    recall  f1-score   support\n",
      "\n",
      "          0       0.68      0.65      0.67        84\n",
      "          1       0.76      0.78      0.77       117\n",
      "\n",
      "avg / total       0.73      0.73      0.73       201\n",
      "\n",
      "Unknown predictions:\n",
      "  Correct values:   [1 0 0 1 1 0 0 0 0 1 1 1 0 0 0 1 0 1 0 1 0 1 1 0 1]\n",
      "  Our predictions:  [1 1 1 0 1 0 0 1 0 1 0 0 0 0 0 0 0 1 1 1 0 1 0 1 1]\n"
     ]
    }
   ],
   "source": [
    "mlp = MLPClassifier(hidden_layer_sizes=(10,20,15,20,10), max_iter=200, alpha=1e-4,\n",
    "                    solver='sgd', verbose=True, shuffle=True, early_stopping = False, # tol=1e-4, \n",
    "                    random_state=None, # reproduceability\n",
    "                    learning_rate_init=.1, learning_rate = 'adaptive')\n",
    "print(\"\\n\\n++++++++++  TRAINING  +++++++++++++++\\n\\n\")\n",
    "mlp.fit(X_train, y_train)\n",
    "\n",
    "\n",
    "print(\"\\n\\n++++++++++++  TESTING  +++++++++++++\\n\\n\")\n",
    "print(\"Training set score: %f\" % mlp.score(X_train, y_train))\n",
    "print(\"Test set score: %f\" % mlp.score(X_test, y_test))\n",
    "\n",
    "# let's see the coefficients -- the nnet weights!\n",
    "# CS = [coef.shape for coef in mlp.coefs_]\n",
    "# print(CS)\n",
    "\n",
    "# predictions:\n",
    "predictions = mlp.predict(X_test)\n",
    "from sklearn.metrics import classification_report,confusion_matrix\n",
    "print(\"\\nConfusion matrix:\")\n",
    "print(confusion_matrix(y_test,predictions))\n",
    "\n",
    "print(\"\\nClassification report\")\n",
    "print(classification_report(y_test,predictions))\n",
    "\n",
    "# unknown data rows...\n",
    "#\n",
    "unknown_predictions = mlp.predict(X_unknown)\n",
    "print(\"Unknown predictions:\")\n",
    "print(\"  Correct values:  \",y_unknown )\n",
    "print(\"  Our predictions: \", unknown_predictions)\n",
    "if False:\n",
    "    L = [5.2, 4.1, 1.5, 0.1]\n",
    "    row = np.array(L)  # makes an array-row\n",
    "    row = row.reshape(1,4)   # makes an array of array-row\n",
    "    if USE_SCALER == True:\n",
    "        row = scaler.transform(row)\n",
    "    print(\"\\nrow is\", row)\n",
    "    print(\"mlp.predict_proba(row) == \", mlp.predict_proba(row))\n",
    "\n",
    "\n"
   ]
  },
  {
   "cell_type": "markdown",
   "metadata": {},
   "source": [
    "# Recurrent Neural Network"
   ]
  },
  {
   "cell_type": "code",
   "execution_count": 16,
   "metadata": {},
   "outputs": [],
   "source": [
    "from __future__ import division, print_function, unicode_literals\n",
    "\n",
    "# Common imports\n",
    "import numpy as np\n",
    "import os\n",
    "\n",
    "# to make this notebook's output stable across runs\n",
    "def reset_graph(seed=42):\n",
    "    tf.reset_default_graph()\n",
    "    tf.set_random_seed(seed)\n",
    "    np.random.seed(seed)\n",
    "\n",
    "# To plot pretty figures\n",
    "%matplotlib inline\n",
    "import matplotlib\n",
    "import matplotlib.pyplot as plt\n",
    "plt.rcParams['axes.labelsize'] = 14\n",
    "plt.rcParams['xtick.labelsize'] = 12\n",
    "plt.rcParams['ytick.labelsize'] = 12\n",
    "\n",
    "# Where to save the figures\n",
    "PROJECT_ROOT_DIR = \".\"\n",
    "CHAPTER_ID = \"rnn\"\n",
    "\n",
    "def save_fig(fig_id, tight_layout=True):\n",
    "    path = os.path.join(PROJECT_ROOT_DIR, \"images\", CHAPTER_ID, fig_id + \".png\")\n",
    "    print(\"Saving figure\", fig_id)\n",
    "    if tight_layout:\n",
    "        plt.tight_layout()\n",
    "    plt.savefig(path, format='png', dpi=300)"
   ]
  },
  {
   "cell_type": "code",
   "execution_count": 59,
   "metadata": {},
   "outputs": [],
   "source": [
    "import tensorflow as tf"
   ]
  },
  {
   "cell_type": "code",
   "execution_count": 60,
   "metadata": {},
   "outputs": [],
   "source": [
    "reset_graph()\n",
    "\n",
    "n_steps = 28\n",
    "n_inputs = 28\n",
    "n_neurons = 150\n",
    "n_outputs = 10\n",
    "\n",
    "learning_rate = 0.001\n",
    "\n",
    "X = tf.placeholder(tf.float32, [None, n_steps, n_inputs])\n",
    "y = tf.placeholder(tf.int32, [None])\n",
    "\n",
    "basic_cell = tf.contrib.rnn.BasicRNNCell(num_units=n_neurons)\n",
    "outputs, states = tf.nn.dynamic_rnn(basic_cell, X, dtype=tf.float32)\n",
    "\n",
    "logits = tf.layers.dense(states, n_outputs)\n",
    "xentropy = tf.nn.sparse_softmax_cross_entropy_with_logits(labels=y,\n",
    "                                                          logits=logits)\n",
    "loss = tf.reduce_mean(xentropy)\n",
    "optimizer = tf.train.AdamOptimizer(learning_rate=learning_rate)\n",
    "training_op = optimizer.minimize(loss)\n",
    "correct = tf.nn.in_top_k(logits, y, 1)\n",
    "accuracy = tf.reduce_mean(tf.cast(correct, tf.float32))\n",
    "\n",
    "init = tf.global_variables_initializer()"
   ]
  },
  {
   "cell_type": "code",
   "execution_count": 75,
   "metadata": {},
   "outputs": [],
   "source": [
    "X_labeled = X_all[25:,:]  # make the 10 into 0 to keep all of the data\n",
    "y_labeled = y_all[25:]    # same for this line\n",
    "X_test =  X_all[0:25,:]\n",
    "y_test = y_all[0:25]\n",
    "#\n",
    "# we can scramble the data - but only the labeled data!\n",
    "# \n",
    "indices = np.random.permutation(len(X_labeled))  # this scrambles the data each time\n",
    "X_data_full = X_labeled[indices]\n",
    "y_data_full = y_labeled[indices]\n",
    "\n",
    "X_train = X_data_full\n",
    "y_train = y_data_full"
   ]
  },
  {
   "cell_type": "code",
   "execution_count": 76,
   "metadata": {},
   "outputs": [],
   "source": [
    "n_epochs = 100\n",
    "batch_size = 150\n",
    "X_train = tf.convert_to_tensor(X_train, name=\"X_train\", dtype=tf.int32)\n",
    "data_len=tf.size(X_train)\n",
    "\n"
   ]
  },
  {
   "cell_type": "code",
   "execution_count": 79,
   "metadata": {},
   "outputs": [],
   "source": [
    "t_min, t_max = 0, 30\n",
    "resolution = 0.1\n",
    "\n",
    "def time_series(t):\n",
    "    return t * np.sin(t) / 3 + 2 * np.sin(t*5)\n",
    "\n",
    "def next_batch(batch_size, n_steps):\n",
    "    t0 = np.random.rand(batch_size, 1) * (t_max - t_min - n_steps * resolution)\n",
    "    Ts = t0 + np.arange(0., n_steps + 1) * resolution\n",
    "    ys = time_series(Ts)\n",
    "    return ys[:, :-1].reshape(-1, n_steps, 1), ys[:, 1:].reshape(-1, n_steps, 1)\n",
    "t = np.linspace(t_min, t_max, int((t_max - t_min) / resolution))\n",
    "\n",
    "n_steps = 20\n",
    "t_instance = np.linspace(12.2, 12.2 + resolution * (n_steps + 1), n_steps + 1)"
   ]
  },
  {
   "cell_type": "code",
   "execution_count": null,
   "metadata": {},
   "outputs": [],
   "source": []
  }
 ],
 "metadata": {
  "kernelspec": {
   "display_name": "Python 3",
   "language": "python",
   "name": "python3"
  },
  "language_info": {
   "codemirror_mode": {
    "name": "ipython",
    "version": 3
   },
   "file_extension": ".py",
   "mimetype": "text/x-python",
   "name": "python",
   "nbconvert_exporter": "python",
   "pygments_lexer": "ipython3",
   "version": "3.6.4"
  }
 },
 "nbformat": 4,
 "nbformat_minor": 2
}
